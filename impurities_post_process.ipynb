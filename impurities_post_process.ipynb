{
 "cells": [
  {
   "cell_type": "markdown",
   "metadata": {},
   "source": [
    "Load impurities data"
   ]
  },
  {
   "cell_type": "code",
   "execution_count": 21,
   "metadata": {},
   "outputs": [],
   "source": [
    "import pandas as pd\n",
    "import yaml\n",
    "\n",
    "# change this path for other impurities\n",
    "with open(\"config\\\\METHANE_IMPURITIES.yaml\", 'r') as config_file:\n",
    "    config = yaml.safe_load(config_file)\n",
    "\n",
    "BASE_COMPOSITIONS_LOWER_LIMITS = pd.Series(\n",
    "    config['BASE_COMPOSITIONS_LOWER_LIMITS'], \n",
    "    name=\"Base Compositions [vol/vol]\"\n",
    ")\n",
    "IMPURITIES_UPPER_LIMITS = pd.Series(\n",
    "    config['IMPURITIES_UPPER_LIMITS'],\n",
    "    name=\"Impurities Upper Limits [vol/vol]\"\n",
    ")"
   ]
  },
  {
   "cell_type": "markdown",
   "metadata": {},
   "source": [
    "Define a domain for temperature and pressure, \n",
    "\n",
    "$T\\in[T_{min}, T_{max}]\\quad p\\in[P_{min}, P_{max}]$"
   ]
  },
  {
   "cell_type": "code",
   "execution_count": 22,
   "metadata": {},
   "outputs": [],
   "source": [
    "from impurities import generate_temperature_pressure_samples\n",
    "\n",
    "doe = generate_temperature_pressure_samples(\n",
    "    config[\"DOE\"][\"n_grid_temperature\"],\n",
    "    config[\"DOE\"][\"n_grid_pressure\"],\n",
    "    config[\"DOE\"][\"temperature_range\"],\n",
    "    config[\"DOE\"][\"pressure_range\"],\n",
    ")"
   ]
  },
  {
   "cell_type": "markdown",
   "metadata": {},
   "source": [
    "Get reference fluid property data for the measured component. In this case, single phase methane"
   ]
  },
  {
   "cell_type": "code",
   "execution_count": 23,
   "metadata": {},
   "outputs": [
    {
     "data": {
      "text/html": [
       "<div>\n",
       "<style scoped>\n",
       "    .dataframe tbody tr th:only-of-type {\n",
       "        vertical-align: middle;\n",
       "    }\n",
       "\n",
       "    .dataframe tbody tr th {\n",
       "        vertical-align: top;\n",
       "    }\n",
       "\n",
       "    .dataframe thead th {\n",
       "        text-align: right;\n",
       "    }\n",
       "</style>\n",
       "<table border=\"1\" class=\"dataframe\">\n",
       "  <thead>\n",
       "    <tr style=\"text-align: right;\">\n",
       "      <th></th>\n",
       "      <th>D</th>\n",
       "      <th>T</th>\n",
       "      <th>P</th>\n",
       "    </tr>\n",
       "  </thead>\n",
       "  <tbody>\n",
       "    <tr>\n",
       "      <th>count</th>\n",
       "      <td>100.000000</td>\n",
       "      <td>100.000000</td>\n",
       "      <td>1.000000e+02</td>\n",
       "    </tr>\n",
       "    <tr>\n",
       "      <th>mean</th>\n",
       "      <td>6.693920</td>\n",
       "      <td>316.650000</td>\n",
       "      <td>1.076325e+06</td>\n",
       "    </tr>\n",
       "    <tr>\n",
       "      <th>std</th>\n",
       "      <td>4.128864</td>\n",
       "      <td>4.169752</td>\n",
       "      <td>6.575378e+05</td>\n",
       "    </tr>\n",
       "    <tr>\n",
       "      <th>min</th>\n",
       "      <td>0.306657</td>\n",
       "      <td>310.150000</td>\n",
       "      <td>5.132500e+04</td>\n",
       "    </tr>\n",
       "    <tr>\n",
       "      <th>25%</th>\n",
       "      <td>3.113968</td>\n",
       "      <td>313.038889</td>\n",
       "      <td>5.068806e+05</td>\n",
       "    </tr>\n",
       "    <tr>\n",
       "      <th>50%</th>\n",
       "      <td>6.644276</td>\n",
       "      <td>316.650000</td>\n",
       "      <td>1.076325e+06</td>\n",
       "    </tr>\n",
       "    <tr>\n",
       "      <th>75%</th>\n",
       "      <td>10.244433</td>\n",
       "      <td>320.261111</td>\n",
       "      <td>1.645769e+06</td>\n",
       "    </tr>\n",
       "    <tr>\n",
       "      <th>max</th>\n",
       "      <td>13.487231</td>\n",
       "      <td>323.150000</td>\n",
       "      <td>2.101325e+06</td>\n",
       "    </tr>\n",
       "  </tbody>\n",
       "</table>\n",
       "</div>"
      ],
      "text/plain": [
       "                D           T             P\n",
       "count  100.000000  100.000000  1.000000e+02\n",
       "mean     6.693920  316.650000  1.076325e+06\n",
       "std      4.128864    4.169752  6.575378e+05\n",
       "min      0.306657  310.150000  5.132500e+04\n",
       "25%      3.113968  313.038889  5.068806e+05\n",
       "50%      6.644276  316.650000  1.076325e+06\n",
       "75%     10.244433  320.261111  1.645769e+06\n",
       "max     13.487231  323.150000  2.101325e+06"
      ]
     },
     "execution_count": 23,
     "metadata": {},
     "output_type": "execute_result"
    }
   ],
   "source": [
    "from generate_data import get_fluid_property\n",
    "\n",
    "df_ref = get_fluid_property(\n",
    "    doe=doe,\n",
    "    hFld=\";\".join(\n",
    "        BASE_COMPOSITIONS_LOWER_LIMITS.add_prefix(\"refprop/FLUIDS/\").index\n",
    "        ),\n",
    "    hOut=config['FLUID_PROPERTY'],\n",
    "    z=list(BASE_COMPOSITIONS_LOWER_LIMITS.values) + \\\n",
    "        [0.0] * (20 - len(BASE_COMPOSITIONS_LOWER_LIMITS)), \n",
    ")\n",
    "df_ref.describe()"
   ]
  },
  {
   "cell_type": "markdown",
   "metadata": {},
   "source": [
    "Get reference fluid property data for each of the impurities."
   ]
  },
  {
   "cell_type": "code",
   "execution_count": 24,
   "metadata": {},
   "outputs": [],
   "source": [
    "from impurities import get_impurities_properties\n",
    "\n",
    "df_impurities = get_impurities_properties(\n",
    "    fluids=list(IMPURITIES_UPPER_LIMITS.keys()),\n",
    "    doe=doe,\n",
    "    df_ref=df_ref,\n",
    "    fluid_property=config['FLUID_PROPERTY'],\n",
    ")"
   ]
  },
  {
   "cell_type": "markdown",
   "metadata": {},
   "source": [
    "Calculate a metric to quantify the error over the range.\n",
    "This is done by intergating the density error over the operating range.\n",
    "\n",
    "Mathematically a double integral of the fluid property error, $\\int_T\\int_p (\\hat\\phi-\\phi_{ref})dpdT$"
   ]
  },
  {
   "cell_type": "code",
   "execution_count": 25,
   "metadata": {},
   "outputs": [
    {
     "data": {
      "text/plain": [
       "WATER       2.623746e+10\n",
       "CO2         3.321677e+08\n",
       "ETHANE      1.839123e+08\n",
       "OXYGEN      1.726640e+08\n",
       "ETHYLENE    1.503632e+08\n",
       "NITROGEN    1.271424e+08\n",
       "Name: Integral of D Deviation over Temperature and Pressure Range, dtype: float64"
      ]
     },
     "execution_count": 25,
     "metadata": {},
     "output_type": "execute_result"
    }
   ],
   "source": [
    "from impurities import get_impact_metrics\n",
    "\n",
    "impact_metrics = {config['FLUID_PROPERTY']: get_impact_metrics(df_impurities, config['FLUID_PROPERTY'])}\n",
    "impact_metrics[config['FLUID_PROPERTY']]"
   ]
  },
  {
   "cell_type": "markdown",
   "metadata": {},
   "source": [
    "And then sort these impact metrics on most significant to least significant"
   ]
  },
  {
   "cell_type": "code",
   "execution_count": 26,
   "metadata": {},
   "outputs": [
    {
     "data": {
      "text/plain": [
       "['WATER', 'CO2', 'ETHANE', 'OXYGEN', 'ETHYLENE', 'NITROGEN']"
      ]
     },
     "execution_count": 26,
     "metadata": {},
     "output_type": "execute_result"
    }
   ],
   "source": [
    "impurities_sorted = list(impact_metrics[config['FLUID_PROPERTY']].sort_values(ascending=False).index)\n",
    "impurities_sorted"
   ]
  },
  {
   "cell_type": "markdown",
   "metadata": {},
   "source": [
    "We then need to normalise the original compositions so that the total impurities and base compositions sum to 100%"
   ]
  },
  {
   "cell_type": "code",
   "execution_count": 27,
   "metadata": {},
   "outputs": [
    {
     "name": "stdout",
     "output_type": "stream",
     "text": [
      "1.0\n"
     ]
    },
    {
     "data": {
      "text/plain": [
       "METHANE     0.99500\n",
       "WATER       0.00002\n",
       "CO2         0.00010\n",
       "ETHANE      0.00060\n",
       "OXYGEN      0.00010\n",
       "ETHYLENE    0.00200\n",
       "NITROGEN    0.00218\n",
       "dtype: float64"
      ]
     },
     "execution_count": 27,
     "metadata": {},
     "output_type": "execute_result"
    }
   ],
   "source": [
    "\"\"\"BRUTE FORCE METHOD\"\"\"\n",
    "total_impurities = (1 - BASE_COMPOSITIONS_LOWER_LIMITS.sum())\n",
    "sum_impurities = 0\n",
    "impurities_sorted_normalized = {}\n",
    "for impurity in impurities_sorted:\n",
    "    sum_impurities += IMPURITIES_UPPER_LIMITS[impurity]\n",
    "    if sum_impurities < total_impurities:\n",
    "        impurities_sorted_normalized[impurity] = IMPURITIES_UPPER_LIMITS[impurity]\n",
    "    else:\n",
    "        impurities_sorted_normalized[impurity] = IMPURITIES_UPPER_LIMITS[impurity] - (sum_impurities - total_impurities)\n",
    "        break\n",
    "\n",
    "compositions = pd.concat([BASE_COMPOSITIONS_LOWER_LIMITS, pd.Series(impurities_sorted_normalized)])\n",
    "print(compositions.sum())\n",
    "compositions"
   ]
  },
  {
   "cell_type": "markdown",
   "metadata": {},
   "source": [
    "Hence we now have a total compositions array in vol/vol or mol/mol depending on the spec. \n",
    "\n",
    "To convert to mol/mol we can calculate the density of each component and total molar volume.\n",
    "\n",
    "We known the filling conditions for the gas bottles (where the vol/vol compositions array is given for) temperature, $T_{filling}$ and filling pressure, $p_{filling}$ so can calculate the filling density, $\\rho_{filling}=f(T_{filling}, p_{filling})$.\n",
    "\n",
    "Hence we can calculate the molar density, $\\rho_M=\\rho / M$ where $M$ is the molar mass of the component.\n",
    "\n",
    "We can then calculate the number of moles per unit volume using the volume compositions of each component divided by the molar density, $x_{V,i}/\\rho_M$\n",
    "\n",
    "We can then calculate the molar composition, $x_{m,i}$ for each component, $i$, as the ratio of the number of moles of the component, $n_i$, to the total number of moles for each component in a control volume, $V$,\n",
    "\n",
    "$$x_{m,i}=\\frac{n_i}{\\sum_i n_i}=\\frac{n_i / V}{1/V \\sum_i n_i}=\\frac{x_{V,i}/\\rho_M}{\\sum_i x_{V,i}/\\rho_M}"
   ]
  },
  {
   "cell_type": "code",
   "execution_count": 28,
   "metadata": {},
   "outputs": [],
   "source": [
    "from refprop.refprop import RefpropInterface\n",
    "\n",
    "def convert_compositions_to_moles_unit_volume(compositions, temperature_filling, pressure_filling):\n",
    "    def get_molar_mass(fluid):\n",
    "        refprop = RefpropInterface(r\"T:\\Joseph McGovern\\Code\\GitHub\\refprop-dotnet\\refprop\", fluid)\n",
    "        refprop.setup_refprop()\n",
    "        M = refprop.fluid_info['Molar Mass [g/mol]'] / 1000  # kg/mol\n",
    "        return M\n",
    "\n",
    "    def get_property(fluid, fluid_property, temperature, pressure):\n",
    "        return get_fluid_property(\n",
    "            pd.DataFrame({\"Temperature [K]\": [temperature], \"Pressure [Pa]\": [pressure]}, index=[0]), \n",
    "            f\"refprop/FLUIDS/{fluid}\",\n",
    "            fluid_property, \n",
    "            [1.0] + [0] * 19\n",
    "        )[fluid_property].values[0]  # kg/m3\n",
    "\n",
    "    def get_moles_unit_volume(x_v, M, rho):\n",
    "        rho_m = rho / M\n",
    "        return x_v * rho_m\n",
    "\n",
    "    df_filling = pd.DataFrame()\n",
    "    for fluid in compositions.index:\n",
    "        rho = get_property(\n",
    "            fluid, \"D\", temperature_filling, pressure_filling\n",
    "        )  # kg/m3\n",
    "        M = get_molar_mass(fluid=fluid)  # kg/mol\n",
    "        n = get_moles_unit_volume(compositions[fluid], M, rho)\n",
    "        df_filling = pd.concat([\n",
    "            df_filling,\n",
    "            pd.DataFrame({\n",
    "                \"Filling Temperature [K]\": [temperature_filling],\n",
    "                \"Filling Pressure [Pa]\": [pressure_filling],\n",
    "                \"Filling Density [kg/m3]\": [rho],\n",
    "                \"Molar Mass [kg/mol]\": [M],\n",
    "                \"Moles Unit Volume [mol/L]\": [n],\n",
    "            }, index=[fluid])\n",
    "        ])\n",
    "    df_filling[\"Composition [mol/mol]\"] = df_filling[\"Moles Unit Volume [mol/L]\"] / df_filling[\"Moles Unit Volume [mol/L]\"].sum()\n",
    "    df_filling[\"Composition [L/L]\"] = compositions.values\n",
    "    return df_filling\n",
    "\n",
    "if config['COMPOSITIONS_BASIS'] == \"volume\":\n",
    "    compositions_worst_case = convert_compositions_to_moles_unit_volume(\n",
    "        compositions=compositions, \n",
    "        temperature_filling=config['FILLING_CONDITIONS']['TEMPERATURE'], \n",
    "        pressure_filling=config['FILLING_CONDITIONS']['PRESSURE']\n",
    "    )[\"Composition [mol/mol]\"]\n",
    "elif config['COMPOSITIONS_BASIS'] == \"mole\":\n",
    "    compositions_worst_case = compositions\n",
    "else:\n",
    "    raise Exception(\"Invalid 'COMPOSITIONS_BASIS'\")"
   ]
  },
  {
   "cell_type": "markdown",
   "metadata": {},
   "source": [
    "Since we now have a \"worst-case\" compositions array, we can calculate the fluid property for this and a \"worst-case\" error"
   ]
  },
  {
   "cell_type": "code",
   "execution_count": 29,
   "metadata": {},
   "outputs": [
    {
     "data": {
      "text/html": [
       "<div>\n",
       "<style scoped>\n",
       "    .dataframe tbody tr th:only-of-type {\n",
       "        vertical-align: middle;\n",
       "    }\n",
       "\n",
       "    .dataframe tbody tr th {\n",
       "        vertical-align: top;\n",
       "    }\n",
       "\n",
       "    .dataframe thead th {\n",
       "        text-align: right;\n",
       "    }\n",
       "</style>\n",
       "<table border=\"1\" class=\"dataframe\">\n",
       "  <thead>\n",
       "    <tr style=\"text-align: right;\">\n",
       "      <th></th>\n",
       "      <th>D</th>\n",
       "      <th>T</th>\n",
       "      <th>P</th>\n",
       "      <th>D Deviation [%]</th>\n",
       "    </tr>\n",
       "  </thead>\n",
       "  <tbody>\n",
       "    <tr>\n",
       "      <th>count</th>\n",
       "      <td>100.000000</td>\n",
       "      <td>100.000000</td>\n",
       "      <td>1.000000e+02</td>\n",
       "      <td>100.000000</td>\n",
       "    </tr>\n",
       "    <tr>\n",
       "      <th>mean</th>\n",
       "      <td>6.725107</td>\n",
       "      <td>316.650000</td>\n",
       "      <td>1.076325e+06</td>\n",
       "      <td>0.463062</td>\n",
       "    </tr>\n",
       "    <tr>\n",
       "      <th>std</th>\n",
       "      <td>4.148301</td>\n",
       "      <td>4.169752</td>\n",
       "      <td>6.575378e+05</td>\n",
       "      <td>0.004668</td>\n",
       "    </tr>\n",
       "    <tr>\n",
       "      <th>min</th>\n",
       "      <td>0.308055</td>\n",
       "      <td>310.150000</td>\n",
       "      <td>5.132500e+04</td>\n",
       "      <td>0.455896</td>\n",
       "    </tr>\n",
       "    <tr>\n",
       "      <th>25%</th>\n",
       "      <td>3.128262</td>\n",
       "      <td>313.038889</td>\n",
       "      <td>5.068806e+05</td>\n",
       "      <td>0.459023</td>\n",
       "    </tr>\n",
       "    <tr>\n",
       "      <th>50%</th>\n",
       "      <td>6.675037</td>\n",
       "      <td>316.650000</td>\n",
       "      <td>1.076325e+06</td>\n",
       "      <td>0.462950</td>\n",
       "    </tr>\n",
       "    <tr>\n",
       "      <th>75%</th>\n",
       "      <td>10.292277</td>\n",
       "      <td>320.261111</td>\n",
       "      <td>1.645769e+06</td>\n",
       "      <td>0.467018</td>\n",
       "    </tr>\n",
       "    <tr>\n",
       "      <th>max</th>\n",
       "      <td>13.550820</td>\n",
       "      <td>323.150000</td>\n",
       "      <td>2.101325e+06</td>\n",
       "      <td>0.471479</td>\n",
       "    </tr>\n",
       "  </tbody>\n",
       "</table>\n",
       "</div>"
      ],
      "text/plain": [
       "                D           T             P  D Deviation [%]\n",
       "count  100.000000  100.000000  1.000000e+02       100.000000\n",
       "mean     6.725107  316.650000  1.076325e+06         0.463062\n",
       "std      4.148301    4.169752  6.575378e+05         0.004668\n",
       "min      0.308055  310.150000  5.132500e+04         0.455896\n",
       "25%      3.128262  313.038889  5.068806e+05         0.459023\n",
       "50%      6.675037  316.650000  1.076325e+06         0.462950\n",
       "75%     10.292277  320.261111  1.645769e+06         0.467018\n",
       "max     13.550820  323.150000  2.101325e+06         0.471479"
      ]
     },
     "execution_count": 29,
     "metadata": {},
     "output_type": "execute_result"
    }
   ],
   "source": [
    "df_worst_case = get_fluid_property(\n",
    "    doe=doe,\n",
    "    hFld=\";\".join(compositions_worst_case.add_prefix(\"refprop/FLUIDS/\").index),\n",
    "    hOut=config['FLUID_PROPERTY'],\n",
    "    z=list(compositions_worst_case.values) + \\\n",
    "        [0.0] * (20 - compositions_worst_case.shape[0]),\n",
    ")\n",
    "\n",
    "deviation_col = f\"{config['FLUID_PROPERTY']} Deviation [%]\"\n",
    "df_worst_case[deviation_col] = (df_worst_case.D - df_ref.D) / df_ref.D * 100.0\n",
    "df_worst_case.describe()"
   ]
  },
  {
   "cell_type": "markdown",
   "metadata": {},
   "source": [
    "And some pretty plots"
   ]
  },
  {
   "cell_type": "code",
   "execution_count": 30,
   "metadata": {},
   "outputs": [
    {
     "data": {
      "application/vnd.plotly.v1+json": {
       "config": {
        "plotlyServerURL": "https://plot.ly"
       },
       "data": [
        {
         "coloraxis": "coloraxis",
         "hovertemplate": "Pressure [Pa]: %{x}<br>Temperature [K]: %{y}<br>D Deviation [%]: %{z}<extra></extra>",
         "name": "0",
         "type": "heatmap",
         "x": [
          51325,
          279102.77777777775,
          506880.55555555556,
          734658.3333333334,
          962436.1111111111,
          1190213.888888889,
          1417991.6666666667,
          1645769.4444444445,
          1873547.2222222222,
          2101325
         ],
         "xaxis": "x",
         "y": [
          310.15,
          311.59444444444443,
          313.0388888888889,
          314.4833333333333,
          315.92777777777775,
          317.3722222222222,
          318.81666666666666,
          320.26111111111106,
          321.7055555555555,
          323.15
         ],
         "yaxis": "y",
         "z": [
          [
           0.455939163842473,
           0.45757895665972154,
           0.45924227019804353,
           0.46092834345576483,
           0.4626364059468804,
           0.46436567549135177,
           0.46611535592138165,
           0.4678846347084524,
           0.4696726805246619,
           0.4714786407473882
          ],
          [
           0.4559339842183633,
           0.45755021869553125,
           0.45918904380563946,
           0.46084970231274147,
           0.46253142790271756,
           0.4642334430935992,
           0.4659549570693169,
           0.46769516344543616,
           0.46945323797805755,
           0.4712283362262506
          ],
          [
           0.45592889631466715,
           0.45752199975618335,
           0.45913679733717633,
           0.460772536318094,
           0.462428455295409,
           0.4641037822243949,
           0.46579773237322936,
           0.4675095062201168,
           0.4692382873001877,
           0.4709832400155882
          ],
          [
           0.4559238980855129,
           0.4574942879497944,
           0.4590855077527316,
           0.46069680991315143,
           0.46232743860493314,
           0.46397662788479715,
           0.4656435997620331,
           0.46732756221730337,
           0.46902770718058673,
           0.47074320847865503
          ],
          [
           0.455918987541179,
           0.45746707172112705,
           0.4590351526860787,
           0.46062248861142635,
           0.46222832984748097,
           0.4638519171490988,
           0.4654924798522918,
           0.4671492340089157,
           0.4688213804863771,
           0.47050810304469765
          ],
          [
           0.4559141627462125,
           0.4574403398409594,
           0.45898571042183006,
           0.46054953895890477,
           0.46213108251771173,
           0.46372958908359374,
           0.46534429584057146,
           0.46697442741385875,
           0.46861919408522407,
           0.47027778998940506
          ],
          [
           0.45590942181769833,
           0.4574140813947044,
           0.45893715987200545,
           0.46047792849746827,
           0.4620356515333139,
           0.46360958466988894,
           0.46519897340046873,
           0.46680305136602906,
           0.4684210386776033,
           0.47005214022634706
          ],
          [
           0.45590476292343063,
           0.4573882857716595,
           0.45888948055365997,
           0.46040762572792227,
           0.46194199318189055,
           0.46349184673119376,
           0.4650564405853703,
           0.4666350177872636,
           0.468226808637591,
           0.4698310291089369
          ],
          [
           0.45590018428033174,
           0.45736294265484617,
           0.45884265256904794,
           0.46033860007621147,
           0.46185006507015053,
           0.46337631986259037,
           0.46491662773490583,
           0.4664702414682884,
           0.46803640186095924,
           0.46961433624304527
          ],
          [
           0.4558956841529742,
           0.45733804201196465,
           0.45879665658444246,
           0.4602708218609105,
           0.4617598260760007,
           0.4632629503635007,
           0.4647794673865645,
           0.46630863995297117,
           0.4678497196215021,
           0.469401945308162
          ]
         ]
        }
       ],
       "layout": {
        "coloraxis": {
         "colorbar": {
          "title": {
           "text": "D Deviation [%]"
          }
         },
         "colorscale": [
          [
           0,
           "#0d0887"
          ],
          [
           0.1111111111111111,
           "#46039f"
          ],
          [
           0.2222222222222222,
           "#7201a8"
          ],
          [
           0.3333333333333333,
           "#9c179e"
          ],
          [
           0.4444444444444444,
           "#bd3786"
          ],
          [
           0.5555555555555556,
           "#d8576b"
          ],
          [
           0.6666666666666666,
           "#ed7953"
          ],
          [
           0.7777777777777778,
           "#fb9f3a"
          ],
          [
           0.8888888888888888,
           "#fdca26"
          ],
          [
           1,
           "#f0f921"
          ]
         ]
        },
        "paper_bgcolor": "#1f1f1f",
        "template": {
         "data": {
          "bar": [
           {
            "error_x": {
             "color": "#f2f5fa"
            },
            "error_y": {
             "color": "#f2f5fa"
            },
            "marker": {
             "line": {
              "color": "rgb(17,17,17)",
              "width": 0.5
             },
             "pattern": {
              "fillmode": "overlay",
              "size": 10,
              "solidity": 0.2
             }
            },
            "type": "bar"
           }
          ],
          "barpolar": [
           {
            "marker": {
             "line": {
              "color": "rgb(17,17,17)",
              "width": 0.5
             },
             "pattern": {
              "fillmode": "overlay",
              "size": 10,
              "solidity": 0.2
             }
            },
            "type": "barpolar"
           }
          ],
          "carpet": [
           {
            "aaxis": {
             "endlinecolor": "#A2B1C6",
             "gridcolor": "#506784",
             "linecolor": "#506784",
             "minorgridcolor": "#506784",
             "startlinecolor": "#A2B1C6"
            },
            "baxis": {
             "endlinecolor": "#A2B1C6",
             "gridcolor": "#506784",
             "linecolor": "#506784",
             "minorgridcolor": "#506784",
             "startlinecolor": "#A2B1C6"
            },
            "type": "carpet"
           }
          ],
          "choropleth": [
           {
            "colorbar": {
             "outlinewidth": 0,
             "ticks": ""
            },
            "type": "choropleth"
           }
          ],
          "contour": [
           {
            "colorbar": {
             "outlinewidth": 0,
             "ticks": ""
            },
            "colorscale": [
             [
              0,
              "#0d0887"
             ],
             [
              0.1111111111111111,
              "#46039f"
             ],
             [
              0.2222222222222222,
              "#7201a8"
             ],
             [
              0.3333333333333333,
              "#9c179e"
             ],
             [
              0.4444444444444444,
              "#bd3786"
             ],
             [
              0.5555555555555556,
              "#d8576b"
             ],
             [
              0.6666666666666666,
              "#ed7953"
             ],
             [
              0.7777777777777778,
              "#fb9f3a"
             ],
             [
              0.8888888888888888,
              "#fdca26"
             ],
             [
              1,
              "#f0f921"
             ]
            ],
            "type": "contour"
           }
          ],
          "contourcarpet": [
           {
            "colorbar": {
             "outlinewidth": 0,
             "ticks": ""
            },
            "type": "contourcarpet"
           }
          ],
          "heatmap": [
           {
            "colorbar": {
             "outlinewidth": 0,
             "ticks": ""
            },
            "colorscale": [
             [
              0,
              "#0d0887"
             ],
             [
              0.1111111111111111,
              "#46039f"
             ],
             [
              0.2222222222222222,
              "#7201a8"
             ],
             [
              0.3333333333333333,
              "#9c179e"
             ],
             [
              0.4444444444444444,
              "#bd3786"
             ],
             [
              0.5555555555555556,
              "#d8576b"
             ],
             [
              0.6666666666666666,
              "#ed7953"
             ],
             [
              0.7777777777777778,
              "#fb9f3a"
             ],
             [
              0.8888888888888888,
              "#fdca26"
             ],
             [
              1,
              "#f0f921"
             ]
            ],
            "type": "heatmap"
           }
          ],
          "heatmapgl": [
           {
            "colorbar": {
             "outlinewidth": 0,
             "ticks": ""
            },
            "colorscale": [
             [
              0,
              "#0d0887"
             ],
             [
              0.1111111111111111,
              "#46039f"
             ],
             [
              0.2222222222222222,
              "#7201a8"
             ],
             [
              0.3333333333333333,
              "#9c179e"
             ],
             [
              0.4444444444444444,
              "#bd3786"
             ],
             [
              0.5555555555555556,
              "#d8576b"
             ],
             [
              0.6666666666666666,
              "#ed7953"
             ],
             [
              0.7777777777777778,
              "#fb9f3a"
             ],
             [
              0.8888888888888888,
              "#fdca26"
             ],
             [
              1,
              "#f0f921"
             ]
            ],
            "type": "heatmapgl"
           }
          ],
          "histogram": [
           {
            "marker": {
             "pattern": {
              "fillmode": "overlay",
              "size": 10,
              "solidity": 0.2
             }
            },
            "type": "histogram"
           }
          ],
          "histogram2d": [
           {
            "colorbar": {
             "outlinewidth": 0,
             "ticks": ""
            },
            "colorscale": [
             [
              0,
              "#0d0887"
             ],
             [
              0.1111111111111111,
              "#46039f"
             ],
             [
              0.2222222222222222,
              "#7201a8"
             ],
             [
              0.3333333333333333,
              "#9c179e"
             ],
             [
              0.4444444444444444,
              "#bd3786"
             ],
             [
              0.5555555555555556,
              "#d8576b"
             ],
             [
              0.6666666666666666,
              "#ed7953"
             ],
             [
              0.7777777777777778,
              "#fb9f3a"
             ],
             [
              0.8888888888888888,
              "#fdca26"
             ],
             [
              1,
              "#f0f921"
             ]
            ],
            "type": "histogram2d"
           }
          ],
          "histogram2dcontour": [
           {
            "colorbar": {
             "outlinewidth": 0,
             "ticks": ""
            },
            "colorscale": [
             [
              0,
              "#0d0887"
             ],
             [
              0.1111111111111111,
              "#46039f"
             ],
             [
              0.2222222222222222,
              "#7201a8"
             ],
             [
              0.3333333333333333,
              "#9c179e"
             ],
             [
              0.4444444444444444,
              "#bd3786"
             ],
             [
              0.5555555555555556,
              "#d8576b"
             ],
             [
              0.6666666666666666,
              "#ed7953"
             ],
             [
              0.7777777777777778,
              "#fb9f3a"
             ],
             [
              0.8888888888888888,
              "#fdca26"
             ],
             [
              1,
              "#f0f921"
             ]
            ],
            "type": "histogram2dcontour"
           }
          ],
          "mesh3d": [
           {
            "colorbar": {
             "outlinewidth": 0,
             "ticks": ""
            },
            "type": "mesh3d"
           }
          ],
          "parcoords": [
           {
            "line": {
             "colorbar": {
              "outlinewidth": 0,
              "ticks": ""
             }
            },
            "type": "parcoords"
           }
          ],
          "pie": [
           {
            "automargin": true,
            "type": "pie"
           }
          ],
          "scatter": [
           {
            "marker": {
             "line": {
              "color": "#283442"
             }
            },
            "type": "scatter"
           }
          ],
          "scatter3d": [
           {
            "line": {
             "colorbar": {
              "outlinewidth": 0,
              "ticks": ""
             }
            },
            "marker": {
             "colorbar": {
              "outlinewidth": 0,
              "ticks": ""
             }
            },
            "type": "scatter3d"
           }
          ],
          "scattercarpet": [
           {
            "marker": {
             "colorbar": {
              "outlinewidth": 0,
              "ticks": ""
             }
            },
            "type": "scattercarpet"
           }
          ],
          "scattergeo": [
           {
            "marker": {
             "colorbar": {
              "outlinewidth": 0,
              "ticks": ""
             }
            },
            "type": "scattergeo"
           }
          ],
          "scattergl": [
           {
            "marker": {
             "line": {
              "color": "#283442"
             }
            },
            "type": "scattergl"
           }
          ],
          "scattermapbox": [
           {
            "marker": {
             "colorbar": {
              "outlinewidth": 0,
              "ticks": ""
             }
            },
            "type": "scattermapbox"
           }
          ],
          "scatterpolar": [
           {
            "marker": {
             "colorbar": {
              "outlinewidth": 0,
              "ticks": ""
             }
            },
            "type": "scatterpolar"
           }
          ],
          "scatterpolargl": [
           {
            "marker": {
             "colorbar": {
              "outlinewidth": 0,
              "ticks": ""
             }
            },
            "type": "scatterpolargl"
           }
          ],
          "scatterternary": [
           {
            "marker": {
             "colorbar": {
              "outlinewidth": 0,
              "ticks": ""
             }
            },
            "type": "scatterternary"
           }
          ],
          "surface": [
           {
            "colorbar": {
             "outlinewidth": 0,
             "ticks": ""
            },
            "colorscale": [
             [
              0,
              "#0d0887"
             ],
             [
              0.1111111111111111,
              "#46039f"
             ],
             [
              0.2222222222222222,
              "#7201a8"
             ],
             [
              0.3333333333333333,
              "#9c179e"
             ],
             [
              0.4444444444444444,
              "#bd3786"
             ],
             [
              0.5555555555555556,
              "#d8576b"
             ],
             [
              0.6666666666666666,
              "#ed7953"
             ],
             [
              0.7777777777777778,
              "#fb9f3a"
             ],
             [
              0.8888888888888888,
              "#fdca26"
             ],
             [
              1,
              "#f0f921"
             ]
            ],
            "type": "surface"
           }
          ],
          "table": [
           {
            "cells": {
             "fill": {
              "color": "#506784"
             },
             "line": {
              "color": "rgb(17,17,17)"
             }
            },
            "header": {
             "fill": {
              "color": "#2a3f5f"
             },
             "line": {
              "color": "rgb(17,17,17)"
             }
            },
            "type": "table"
           }
          ]
         },
         "layout": {
          "annotationdefaults": {
           "arrowcolor": "#f2f5fa",
           "arrowhead": 0,
           "arrowwidth": 1
          },
          "autotypenumbers": "strict",
          "coloraxis": {
           "colorbar": {
            "outlinewidth": 0,
            "ticks": ""
           }
          },
          "colorscale": {
           "diverging": [
            [
             0,
             "#8e0152"
            ],
            [
             0.1,
             "#c51b7d"
            ],
            [
             0.2,
             "#de77ae"
            ],
            [
             0.3,
             "#f1b6da"
            ],
            [
             0.4,
             "#fde0ef"
            ],
            [
             0.5,
             "#f7f7f7"
            ],
            [
             0.6,
             "#e6f5d0"
            ],
            [
             0.7,
             "#b8e186"
            ],
            [
             0.8,
             "#7fbc41"
            ],
            [
             0.9,
             "#4d9221"
            ],
            [
             1,
             "#276419"
            ]
           ],
           "sequential": [
            [
             0,
             "#0d0887"
            ],
            [
             0.1111111111111111,
             "#46039f"
            ],
            [
             0.2222222222222222,
             "#7201a8"
            ],
            [
             0.3333333333333333,
             "#9c179e"
            ],
            [
             0.4444444444444444,
             "#bd3786"
            ],
            [
             0.5555555555555556,
             "#d8576b"
            ],
            [
             0.6666666666666666,
             "#ed7953"
            ],
            [
             0.7777777777777778,
             "#fb9f3a"
            ],
            [
             0.8888888888888888,
             "#fdca26"
            ],
            [
             1,
             "#f0f921"
            ]
           ],
           "sequentialminus": [
            [
             0,
             "#0d0887"
            ],
            [
             0.1111111111111111,
             "#46039f"
            ],
            [
             0.2222222222222222,
             "#7201a8"
            ],
            [
             0.3333333333333333,
             "#9c179e"
            ],
            [
             0.4444444444444444,
             "#bd3786"
            ],
            [
             0.5555555555555556,
             "#d8576b"
            ],
            [
             0.6666666666666666,
             "#ed7953"
            ],
            [
             0.7777777777777778,
             "#fb9f3a"
            ],
            [
             0.8888888888888888,
             "#fdca26"
            ],
            [
             1,
             "#f0f921"
            ]
           ]
          },
          "colorway": [
           "#636efa",
           "#EF553B",
           "#00cc96",
           "#ab63fa",
           "#FFA15A",
           "#19d3f3",
           "#FF6692",
           "#B6E880",
           "#FF97FF",
           "#FECB52"
          ],
          "font": {
           "color": "#f2f5fa"
          },
          "geo": {
           "bgcolor": "rgb(17,17,17)",
           "lakecolor": "rgb(17,17,17)",
           "landcolor": "rgb(17,17,17)",
           "showlakes": true,
           "showland": true,
           "subunitcolor": "#506784"
          },
          "hoverlabel": {
           "align": "left"
          },
          "hovermode": "closest",
          "mapbox": {
           "style": "dark"
          },
          "paper_bgcolor": "rgb(17,17,17)",
          "plot_bgcolor": "rgb(17,17,17)",
          "polar": {
           "angularaxis": {
            "gridcolor": "#506784",
            "linecolor": "#506784",
            "ticks": ""
           },
           "bgcolor": "rgb(17,17,17)",
           "radialaxis": {
            "gridcolor": "#506784",
            "linecolor": "#506784",
            "ticks": ""
           }
          },
          "scene": {
           "xaxis": {
            "backgroundcolor": "rgb(17,17,17)",
            "gridcolor": "#506784",
            "gridwidth": 2,
            "linecolor": "#506784",
            "showbackground": true,
            "ticks": "",
            "zerolinecolor": "#C8D4E3"
           },
           "yaxis": {
            "backgroundcolor": "rgb(17,17,17)",
            "gridcolor": "#506784",
            "gridwidth": 2,
            "linecolor": "#506784",
            "showbackground": true,
            "ticks": "",
            "zerolinecolor": "#C8D4E3"
           },
           "zaxis": {
            "backgroundcolor": "rgb(17,17,17)",
            "gridcolor": "#506784",
            "gridwidth": 2,
            "linecolor": "#506784",
            "showbackground": true,
            "ticks": "",
            "zerolinecolor": "#C8D4E3"
           }
          },
          "shapedefaults": {
           "line": {
            "color": "#f2f5fa"
           }
          },
          "sliderdefaults": {
           "bgcolor": "#C8D4E3",
           "bordercolor": "rgb(17,17,17)",
           "borderwidth": 1,
           "tickwidth": 0
          },
          "ternary": {
           "aaxis": {
            "gridcolor": "#506784",
            "linecolor": "#506784",
            "ticks": ""
           },
           "baxis": {
            "gridcolor": "#506784",
            "linecolor": "#506784",
            "ticks": ""
           },
           "bgcolor": "rgb(17,17,17)",
           "caxis": {
            "gridcolor": "#506784",
            "linecolor": "#506784",
            "ticks": ""
           }
          },
          "title": {
           "x": 0.05
          },
          "updatemenudefaults": {
           "bgcolor": "#506784",
           "borderwidth": 0
          },
          "xaxis": {
           "automargin": true,
           "gridcolor": "#283442",
           "linecolor": "#506784",
           "ticks": "",
           "title": {
            "standoff": 15
           },
           "zerolinecolor": "#283442",
           "zerolinewidth": 2
          },
          "yaxis": {
           "automargin": true,
           "gridcolor": "#283442",
           "linecolor": "#506784",
           "ticks": "",
           "title": {
            "standoff": 15
           },
           "zerolinecolor": "#283442",
           "zerolinewidth": 2
          }
         }
        },
        "title": {
         "text": "D Deviation [%] vs. Temperature and Pressure"
        },
        "xaxis": {
         "anchor": "y",
         "autorange": 0,
         "domain": [
          0,
          1
         ],
         "title": {
          "text": "Pressure [Pa]"
         }
        },
        "yaxis": {
         "anchor": "x",
         "autorange": 0,
         "domain": [
          0,
          1
         ],
         "title": {
          "text": "Temperature [K]"
         }
        }
       }
      }
     },
     "metadata": {},
     "output_type": "display_data"
    },
    {
     "data": {
      "application/vnd.plotly.v1+json": {
       "config": {
        "plotlyServerURL": "https://plot.ly"
       },
       "data": [
        {
         "alignmentgroup": "True",
         "bingroup": "x",
         "histnorm": "probability density",
         "hovertemplate": "D Deviation [%]=%{x}<br>probability density=%{y}<extra></extra>",
         "legendgroup": "",
         "marker": {
          "color": "#636efa",
          "pattern": {
           "shape": ""
          }
         },
         "name": "",
         "nbinsx": 20,
         "offsetgroup": "",
         "orientation": "v",
         "showlegend": false,
         "type": "histogram",
         "x": [
          0.455939163842473,
          0.4559339842183633,
          0.45592889631466715,
          0.4559238980855129,
          0.455918987541179,
          0.4559141627462125,
          0.45590942181769833,
          0.45590476292343063,
          0.45590018428033174,
          0.4558956841529742,
          0.45757895665972154,
          0.45755021869553125,
          0.45752199975618335,
          0.4574942879497944,
          0.45746707172112705,
          0.4574403398409594,
          0.4574140813947044,
          0.4573882857716595,
          0.45736294265484617,
          0.45733804201196465,
          0.45924227019804353,
          0.45918904380563946,
          0.45913679733717633,
          0.4590855077527316,
          0.4590351526860787,
          0.45898571042183006,
          0.45893715987200545,
          0.45888948055365997,
          0.45884265256904794,
          0.45879665658444246,
          0.46092834345576483,
          0.46084970231274147,
          0.460772536318094,
          0.46069680991315143,
          0.46062248861142635,
          0.46054953895890477,
          0.46047792849746827,
          0.46040762572792227,
          0.46033860007621147,
          0.4602708218609105,
          0.4626364059468804,
          0.46253142790271756,
          0.462428455295409,
          0.46232743860493314,
          0.46222832984748097,
          0.46213108251771173,
          0.4620356515333139,
          0.46194199318189055,
          0.46185006507015053,
          0.4617598260760007,
          0.46436567549135177,
          0.4642334430935992,
          0.4641037822243949,
          0.46397662788479715,
          0.4638519171490988,
          0.46372958908359374,
          0.46360958466988894,
          0.46349184673119376,
          0.46337631986259037,
          0.4632629503635007,
          0.46611535592138165,
          0.4659549570693169,
          0.46579773237322936,
          0.4656435997620331,
          0.4654924798522918,
          0.46534429584057146,
          0.46519897340046873,
          0.4650564405853703,
          0.46491662773490583,
          0.4647794673865645,
          0.4678846347084524,
          0.46769516344543616,
          0.4675095062201168,
          0.46732756221730337,
          0.4671492340089157,
          0.46697442741385875,
          0.46680305136602906,
          0.4666350177872636,
          0.4664702414682884,
          0.46630863995297117,
          0.4696726805246619,
          0.46945323797805755,
          0.4692382873001877,
          0.46902770718058673,
          0.4688213804863771,
          0.46861919408522407,
          0.4684210386776033,
          0.468226808637591,
          0.46803640186095924,
          0.4678497196215021,
          0.4714786407473882,
          0.4712283362262506,
          0.4709832400155882,
          0.47074320847865503,
          0.47050810304469765,
          0.47027778998940506,
          0.47005214022634706,
          0.4698310291089369,
          0.46961433624304527,
          0.469401945308162
         ],
         "xaxis": "x",
         "yaxis": "y"
        }
       ],
       "layout": {
        "barmode": "relative",
        "legend": {
         "tracegroupgap": 0
        },
        "paper_bgcolor": "#1f1f1f",
        "template": {
         "data": {
          "bar": [
           {
            "error_x": {
             "color": "#f2f5fa"
            },
            "error_y": {
             "color": "#f2f5fa"
            },
            "marker": {
             "line": {
              "color": "rgb(17,17,17)",
              "width": 0.5
             },
             "pattern": {
              "fillmode": "overlay",
              "size": 10,
              "solidity": 0.2
             }
            },
            "type": "bar"
           }
          ],
          "barpolar": [
           {
            "marker": {
             "line": {
              "color": "rgb(17,17,17)",
              "width": 0.5
             },
             "pattern": {
              "fillmode": "overlay",
              "size": 10,
              "solidity": 0.2
             }
            },
            "type": "barpolar"
           }
          ],
          "carpet": [
           {
            "aaxis": {
             "endlinecolor": "#A2B1C6",
             "gridcolor": "#506784",
             "linecolor": "#506784",
             "minorgridcolor": "#506784",
             "startlinecolor": "#A2B1C6"
            },
            "baxis": {
             "endlinecolor": "#A2B1C6",
             "gridcolor": "#506784",
             "linecolor": "#506784",
             "minorgridcolor": "#506784",
             "startlinecolor": "#A2B1C6"
            },
            "type": "carpet"
           }
          ],
          "choropleth": [
           {
            "colorbar": {
             "outlinewidth": 0,
             "ticks": ""
            },
            "type": "choropleth"
           }
          ],
          "contour": [
           {
            "colorbar": {
             "outlinewidth": 0,
             "ticks": ""
            },
            "colorscale": [
             [
              0,
              "#0d0887"
             ],
             [
              0.1111111111111111,
              "#46039f"
             ],
             [
              0.2222222222222222,
              "#7201a8"
             ],
             [
              0.3333333333333333,
              "#9c179e"
             ],
             [
              0.4444444444444444,
              "#bd3786"
             ],
             [
              0.5555555555555556,
              "#d8576b"
             ],
             [
              0.6666666666666666,
              "#ed7953"
             ],
             [
              0.7777777777777778,
              "#fb9f3a"
             ],
             [
              0.8888888888888888,
              "#fdca26"
             ],
             [
              1,
              "#f0f921"
             ]
            ],
            "type": "contour"
           }
          ],
          "contourcarpet": [
           {
            "colorbar": {
             "outlinewidth": 0,
             "ticks": ""
            },
            "type": "contourcarpet"
           }
          ],
          "heatmap": [
           {
            "colorbar": {
             "outlinewidth": 0,
             "ticks": ""
            },
            "colorscale": [
             [
              0,
              "#0d0887"
             ],
             [
              0.1111111111111111,
              "#46039f"
             ],
             [
              0.2222222222222222,
              "#7201a8"
             ],
             [
              0.3333333333333333,
              "#9c179e"
             ],
             [
              0.4444444444444444,
              "#bd3786"
             ],
             [
              0.5555555555555556,
              "#d8576b"
             ],
             [
              0.6666666666666666,
              "#ed7953"
             ],
             [
              0.7777777777777778,
              "#fb9f3a"
             ],
             [
              0.8888888888888888,
              "#fdca26"
             ],
             [
              1,
              "#f0f921"
             ]
            ],
            "type": "heatmap"
           }
          ],
          "heatmapgl": [
           {
            "colorbar": {
             "outlinewidth": 0,
             "ticks": ""
            },
            "colorscale": [
             [
              0,
              "#0d0887"
             ],
             [
              0.1111111111111111,
              "#46039f"
             ],
             [
              0.2222222222222222,
              "#7201a8"
             ],
             [
              0.3333333333333333,
              "#9c179e"
             ],
             [
              0.4444444444444444,
              "#bd3786"
             ],
             [
              0.5555555555555556,
              "#d8576b"
             ],
             [
              0.6666666666666666,
              "#ed7953"
             ],
             [
              0.7777777777777778,
              "#fb9f3a"
             ],
             [
              0.8888888888888888,
              "#fdca26"
             ],
             [
              1,
              "#f0f921"
             ]
            ],
            "type": "heatmapgl"
           }
          ],
          "histogram": [
           {
            "marker": {
             "pattern": {
              "fillmode": "overlay",
              "size": 10,
              "solidity": 0.2
             }
            },
            "type": "histogram"
           }
          ],
          "histogram2d": [
           {
            "colorbar": {
             "outlinewidth": 0,
             "ticks": ""
            },
            "colorscale": [
             [
              0,
              "#0d0887"
             ],
             [
              0.1111111111111111,
              "#46039f"
             ],
             [
              0.2222222222222222,
              "#7201a8"
             ],
             [
              0.3333333333333333,
              "#9c179e"
             ],
             [
              0.4444444444444444,
              "#bd3786"
             ],
             [
              0.5555555555555556,
              "#d8576b"
             ],
             [
              0.6666666666666666,
              "#ed7953"
             ],
             [
              0.7777777777777778,
              "#fb9f3a"
             ],
             [
              0.8888888888888888,
              "#fdca26"
             ],
             [
              1,
              "#f0f921"
             ]
            ],
            "type": "histogram2d"
           }
          ],
          "histogram2dcontour": [
           {
            "colorbar": {
             "outlinewidth": 0,
             "ticks": ""
            },
            "colorscale": [
             [
              0,
              "#0d0887"
             ],
             [
              0.1111111111111111,
              "#46039f"
             ],
             [
              0.2222222222222222,
              "#7201a8"
             ],
             [
              0.3333333333333333,
              "#9c179e"
             ],
             [
              0.4444444444444444,
              "#bd3786"
             ],
             [
              0.5555555555555556,
              "#d8576b"
             ],
             [
              0.6666666666666666,
              "#ed7953"
             ],
             [
              0.7777777777777778,
              "#fb9f3a"
             ],
             [
              0.8888888888888888,
              "#fdca26"
             ],
             [
              1,
              "#f0f921"
             ]
            ],
            "type": "histogram2dcontour"
           }
          ],
          "mesh3d": [
           {
            "colorbar": {
             "outlinewidth": 0,
             "ticks": ""
            },
            "type": "mesh3d"
           }
          ],
          "parcoords": [
           {
            "line": {
             "colorbar": {
              "outlinewidth": 0,
              "ticks": ""
             }
            },
            "type": "parcoords"
           }
          ],
          "pie": [
           {
            "automargin": true,
            "type": "pie"
           }
          ],
          "scatter": [
           {
            "marker": {
             "line": {
              "color": "#283442"
             }
            },
            "type": "scatter"
           }
          ],
          "scatter3d": [
           {
            "line": {
             "colorbar": {
              "outlinewidth": 0,
              "ticks": ""
             }
            },
            "marker": {
             "colorbar": {
              "outlinewidth": 0,
              "ticks": ""
             }
            },
            "type": "scatter3d"
           }
          ],
          "scattercarpet": [
           {
            "marker": {
             "colorbar": {
              "outlinewidth": 0,
              "ticks": ""
             }
            },
            "type": "scattercarpet"
           }
          ],
          "scattergeo": [
           {
            "marker": {
             "colorbar": {
              "outlinewidth": 0,
              "ticks": ""
             }
            },
            "type": "scattergeo"
           }
          ],
          "scattergl": [
           {
            "marker": {
             "line": {
              "color": "#283442"
             }
            },
            "type": "scattergl"
           }
          ],
          "scattermapbox": [
           {
            "marker": {
             "colorbar": {
              "outlinewidth": 0,
              "ticks": ""
             }
            },
            "type": "scattermapbox"
           }
          ],
          "scatterpolar": [
           {
            "marker": {
             "colorbar": {
              "outlinewidth": 0,
              "ticks": ""
             }
            },
            "type": "scatterpolar"
           }
          ],
          "scatterpolargl": [
           {
            "marker": {
             "colorbar": {
              "outlinewidth": 0,
              "ticks": ""
             }
            },
            "type": "scatterpolargl"
           }
          ],
          "scatterternary": [
           {
            "marker": {
             "colorbar": {
              "outlinewidth": 0,
              "ticks": ""
             }
            },
            "type": "scatterternary"
           }
          ],
          "surface": [
           {
            "colorbar": {
             "outlinewidth": 0,
             "ticks": ""
            },
            "colorscale": [
             [
              0,
              "#0d0887"
             ],
             [
              0.1111111111111111,
              "#46039f"
             ],
             [
              0.2222222222222222,
              "#7201a8"
             ],
             [
              0.3333333333333333,
              "#9c179e"
             ],
             [
              0.4444444444444444,
              "#bd3786"
             ],
             [
              0.5555555555555556,
              "#d8576b"
             ],
             [
              0.6666666666666666,
              "#ed7953"
             ],
             [
              0.7777777777777778,
              "#fb9f3a"
             ],
             [
              0.8888888888888888,
              "#fdca26"
             ],
             [
              1,
              "#f0f921"
             ]
            ],
            "type": "surface"
           }
          ],
          "table": [
           {
            "cells": {
             "fill": {
              "color": "#506784"
             },
             "line": {
              "color": "rgb(17,17,17)"
             }
            },
            "header": {
             "fill": {
              "color": "#2a3f5f"
             },
             "line": {
              "color": "rgb(17,17,17)"
             }
            },
            "type": "table"
           }
          ]
         },
         "layout": {
          "annotationdefaults": {
           "arrowcolor": "#f2f5fa",
           "arrowhead": 0,
           "arrowwidth": 1
          },
          "autotypenumbers": "strict",
          "coloraxis": {
           "colorbar": {
            "outlinewidth": 0,
            "ticks": ""
           }
          },
          "colorscale": {
           "diverging": [
            [
             0,
             "#8e0152"
            ],
            [
             0.1,
             "#c51b7d"
            ],
            [
             0.2,
             "#de77ae"
            ],
            [
             0.3,
             "#f1b6da"
            ],
            [
             0.4,
             "#fde0ef"
            ],
            [
             0.5,
             "#f7f7f7"
            ],
            [
             0.6,
             "#e6f5d0"
            ],
            [
             0.7,
             "#b8e186"
            ],
            [
             0.8,
             "#7fbc41"
            ],
            [
             0.9,
             "#4d9221"
            ],
            [
             1,
             "#276419"
            ]
           ],
           "sequential": [
            [
             0,
             "#0d0887"
            ],
            [
             0.1111111111111111,
             "#46039f"
            ],
            [
             0.2222222222222222,
             "#7201a8"
            ],
            [
             0.3333333333333333,
             "#9c179e"
            ],
            [
             0.4444444444444444,
             "#bd3786"
            ],
            [
             0.5555555555555556,
             "#d8576b"
            ],
            [
             0.6666666666666666,
             "#ed7953"
            ],
            [
             0.7777777777777778,
             "#fb9f3a"
            ],
            [
             0.8888888888888888,
             "#fdca26"
            ],
            [
             1,
             "#f0f921"
            ]
           ],
           "sequentialminus": [
            [
             0,
             "#0d0887"
            ],
            [
             0.1111111111111111,
             "#46039f"
            ],
            [
             0.2222222222222222,
             "#7201a8"
            ],
            [
             0.3333333333333333,
             "#9c179e"
            ],
            [
             0.4444444444444444,
             "#bd3786"
            ],
            [
             0.5555555555555556,
             "#d8576b"
            ],
            [
             0.6666666666666666,
             "#ed7953"
            ],
            [
             0.7777777777777778,
             "#fb9f3a"
            ],
            [
             0.8888888888888888,
             "#fdca26"
            ],
            [
             1,
             "#f0f921"
            ]
           ]
          },
          "colorway": [
           "#636efa",
           "#EF553B",
           "#00cc96",
           "#ab63fa",
           "#FFA15A",
           "#19d3f3",
           "#FF6692",
           "#B6E880",
           "#FF97FF",
           "#FECB52"
          ],
          "font": {
           "color": "#f2f5fa"
          },
          "geo": {
           "bgcolor": "rgb(17,17,17)",
           "lakecolor": "rgb(17,17,17)",
           "landcolor": "rgb(17,17,17)",
           "showlakes": true,
           "showland": true,
           "subunitcolor": "#506784"
          },
          "hoverlabel": {
           "align": "left"
          },
          "hovermode": "closest",
          "mapbox": {
           "style": "dark"
          },
          "paper_bgcolor": "rgb(17,17,17)",
          "plot_bgcolor": "rgb(17,17,17)",
          "polar": {
           "angularaxis": {
            "gridcolor": "#506784",
            "linecolor": "#506784",
            "ticks": ""
           },
           "bgcolor": "rgb(17,17,17)",
           "radialaxis": {
            "gridcolor": "#506784",
            "linecolor": "#506784",
            "ticks": ""
           }
          },
          "scene": {
           "xaxis": {
            "backgroundcolor": "rgb(17,17,17)",
            "gridcolor": "#506784",
            "gridwidth": 2,
            "linecolor": "#506784",
            "showbackground": true,
            "ticks": "",
            "zerolinecolor": "#C8D4E3"
           },
           "yaxis": {
            "backgroundcolor": "rgb(17,17,17)",
            "gridcolor": "#506784",
            "gridwidth": 2,
            "linecolor": "#506784",
            "showbackground": true,
            "ticks": "",
            "zerolinecolor": "#C8D4E3"
           },
           "zaxis": {
            "backgroundcolor": "rgb(17,17,17)",
            "gridcolor": "#506784",
            "gridwidth": 2,
            "linecolor": "#506784",
            "showbackground": true,
            "ticks": "",
            "zerolinecolor": "#C8D4E3"
           }
          },
          "shapedefaults": {
           "line": {
            "color": "#f2f5fa"
           }
          },
          "sliderdefaults": {
           "bgcolor": "#C8D4E3",
           "bordercolor": "rgb(17,17,17)",
           "borderwidth": 1,
           "tickwidth": 0
          },
          "ternary": {
           "aaxis": {
            "gridcolor": "#506784",
            "linecolor": "#506784",
            "ticks": ""
           },
           "baxis": {
            "gridcolor": "#506784",
            "linecolor": "#506784",
            "ticks": ""
           },
           "bgcolor": "rgb(17,17,17)",
           "caxis": {
            "gridcolor": "#506784",
            "linecolor": "#506784",
            "ticks": ""
           }
          },
          "title": {
           "x": 0.05
          },
          "updatemenudefaults": {
           "bgcolor": "#506784",
           "borderwidth": 0
          },
          "xaxis": {
           "automargin": true,
           "gridcolor": "#283442",
           "linecolor": "#506784",
           "ticks": "",
           "title": {
            "standoff": 15
           },
           "zerolinecolor": "#283442",
           "zerolinewidth": 2
          },
          "yaxis": {
           "automargin": true,
           "gridcolor": "#283442",
           "linecolor": "#506784",
           "ticks": "",
           "title": {
            "standoff": 15
           },
           "zerolinecolor": "#283442",
           "zerolinewidth": 2
          }
         }
        },
        "title": {
         "text": "D Deviation [%] Histogram"
        },
        "xaxis": {
         "anchor": "y",
         "domain": [
          0,
          1
         ],
         "title": {
          "text": "D Deviation [%]"
         }
        },
        "yaxis": {
         "anchor": "x",
         "domain": [
          0,
          1
         ],
         "title": {
          "text": "probability density"
         }
        }
       }
      }
     },
     "metadata": {},
     "output_type": "display_data"
    }
   ],
   "source": [
    "import plotly.express as px\n",
    "\n",
    "fig_im = px.imshow(\n",
    "    df_worst_case.pivot(\n",
    "    index=\"T\", columns=\"P\", values=deviation_col\n",
    "    ),\n",
    "    labels=dict(x=\"Pressure [Pa]\", y=\"Temperature [K]\", color=deviation_col),\n",
    "    title=f\"{deviation_col} vs. Temperature and Pressure\",\n",
    "    aspect=\"auto\",\n",
    ")\n",
    "fig_im.update_xaxes(autorange=0)\n",
    "fig_im.update_yaxes(autorange=0)\n",
    "fig_im.update_layout(\n",
    "    template=\"plotly_dark\",\n",
    "    paper_bgcolor=\"#1f1f1f\",\n",
    ")\n",
    "fig_im.show()\n",
    "\n",
    "fig_hist = px.histogram(\n",
    "    df_worst_case, x=deviation_col, nbins=20, histnorm=\"probability density\",\n",
    "    title=f\"{deviation_col} Histogram\",\n",
    ")\n",
    "fig_hist.update_layout(\n",
    "    template=\"plotly_dark\",\n",
    "    paper_bgcolor=\"#1f1f1f\",\n",
    ")\n",
    "fig_hist.show()"
   ]
  }
 ],
 "metadata": {
  "kernelspec": {
   "display_name": "Python 3",
   "language": "python",
   "name": "python3"
  },
  "language_info": {
   "codemirror_mode": {
    "name": "ipython",
    "version": 3
   },
   "file_extension": ".py",
   "mimetype": "text/x-python",
   "name": "python",
   "nbconvert_exporter": "python",
   "pygments_lexer": "ipython3",
   "version": "3.10.11"
  },
  "orig_nbformat": 4
 },
 "nbformat": 4,
 "nbformat_minor": 2
}
