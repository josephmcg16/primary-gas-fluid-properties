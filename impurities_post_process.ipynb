{
 "cells": [
  {
   "cell_type": "markdown",
   "metadata": {},
   "source": [
    "Load impurities data"
   ]
  },
  {
   "cell_type": "code",
   "execution_count": 1,
   "metadata": {},
   "outputs": [],
   "source": [
    "import pandas as pd\n",
    "import yaml\n",
    "\n",
    "# change this path for other impurities\n",
    "with open(\"config\\\\CO2_IMPURITIES.yaml\", 'r') as config_file:\n",
    "    config = yaml.safe_load(config_file)\n",
    "\n",
    "BASE_COMPOSITIONS_LOWER_LIMITS = pd.Series(\n",
    "    config['BASE_COMPOSITIONS_LOWER_LIMITS'], \n",
    "    name=\"Base Compositions [vol/vol]\"\n",
    ")\n",
    "IMPURITIES_UPPER_LIMITS = pd.Series(\n",
    "    config['IMPURITIES_UPPER_LIMITS'],\n",
    "    name=\"Impurities Upper Limits [vol/vol]\"\n",
    ")"
   ]
  },
  {
   "cell_type": "markdown",
   "metadata": {},
   "source": [
    "Define a domain for temperature and pressure, \n",
    "\n",
    "$T\\in[T_{min}, T_{max}]\\quad p\\in[P_{min}, P_{max}]$"
   ]
  },
  {
   "cell_type": "code",
   "execution_count": 2,
   "metadata": {},
   "outputs": [],
   "source": [
    "from impurities import generate_temperature_pressure_samples\n",
    "\n",
    "doe = generate_temperature_pressure_samples(\n",
    "    config[\"DOE\"][\"n_grid_temperature\"],\n",
    "    config[\"DOE\"][\"n_grid_pressure\"],\n",
    "    config[\"DOE\"][\"temperature_range\"],\n",
    "    config[\"DOE\"][\"pressure_range\"],\n",
    ")"
   ]
  },
  {
   "cell_type": "markdown",
   "metadata": {},
   "source": [
    "Get reference fluid property data for the measured component. In this case, single phase methane"
   ]
  },
  {
   "cell_type": "code",
   "execution_count": 3,
   "metadata": {},
   "outputs": [
    {
     "data": {
      "text/html": [
       "<div>\n",
       "<style scoped>\n",
       "    .dataframe tbody tr th:only-of-type {\n",
       "        vertical-align: middle;\n",
       "    }\n",
       "\n",
       "    .dataframe tbody tr th {\n",
       "        vertical-align: top;\n",
       "    }\n",
       "\n",
       "    .dataframe thead th {\n",
       "        text-align: right;\n",
       "    }\n",
       "</style>\n",
       "<table border=\"1\" class=\"dataframe\">\n",
       "  <thead>\n",
       "    <tr style=\"text-align: right;\">\n",
       "      <th></th>\n",
       "      <th>D</th>\n",
       "      <th>T</th>\n",
       "      <th>P</th>\n",
       "    </tr>\n",
       "  </thead>\n",
       "  <tbody>\n",
       "    <tr>\n",
       "      <th>count</th>\n",
       "      <td>100.000000</td>\n",
       "      <td>100.000000</td>\n",
       "      <td>1.000000e+02</td>\n",
       "    </tr>\n",
       "    <tr>\n",
       "      <th>mean</th>\n",
       "      <td>19.212503</td>\n",
       "      <td>316.650000</td>\n",
       "      <td>1.076325e+06</td>\n",
       "    </tr>\n",
       "    <tr>\n",
       "      <th>std</th>\n",
       "      <td>12.115427</td>\n",
       "      <td>4.169752</td>\n",
       "      <td>6.575378e+05</td>\n",
       "    </tr>\n",
       "    <tr>\n",
       "      <th>min</th>\n",
       "      <td>0.842337</td>\n",
       "      <td>310.150000</td>\n",
       "      <td>5.132500e+04</td>\n",
       "    </tr>\n",
       "    <tr>\n",
       "      <th>25%</th>\n",
       "      <td>8.664299</td>\n",
       "      <td>313.038889</td>\n",
       "      <td>5.068806e+05</td>\n",
       "    </tr>\n",
       "    <tr>\n",
       "      <th>50%</th>\n",
       "      <td>18.805649</td>\n",
       "      <td>316.650000</td>\n",
       "      <td>1.076325e+06</td>\n",
       "    </tr>\n",
       "    <tr>\n",
       "      <th>75%</th>\n",
       "      <td>29.537013</td>\n",
       "      <td>320.261111</td>\n",
       "      <td>1.645769e+06</td>\n",
       "    </tr>\n",
       "    <tr>\n",
       "      <th>max</th>\n",
       "      <td>39.746507</td>\n",
       "      <td>323.150000</td>\n",
       "      <td>2.101325e+06</td>\n",
       "    </tr>\n",
       "  </tbody>\n",
       "</table>\n",
       "</div>"
      ],
      "text/plain": [
       "                D           T             P\n",
       "count  100.000000  100.000000  1.000000e+02\n",
       "mean    19.212503  316.650000  1.076325e+06\n",
       "std     12.115427    4.169752  6.575378e+05\n",
       "min      0.842337  310.150000  5.132500e+04\n",
       "25%      8.664299  313.038889  5.068806e+05\n",
       "50%     18.805649  316.650000  1.076325e+06\n",
       "75%     29.537013  320.261111  1.645769e+06\n",
       "max     39.746507  323.150000  2.101325e+06"
      ]
     },
     "execution_count": 3,
     "metadata": {},
     "output_type": "execute_result"
    }
   ],
   "source": [
    "from generate_data import get_fluid_property\n",
    "\n",
    "df_ref = get_fluid_property(\n",
    "    doe=doe,\n",
    "    hFld=\";\".join(\n",
    "        BASE_COMPOSITIONS_LOWER_LIMITS.add_prefix(\"refprop/FLUIDS/\").index\n",
    "        ),\n",
    "    hOut=config['FLUID_PROPERTY'],\n",
    "    z=list(BASE_COMPOSITIONS_LOWER_LIMITS.values) + \\\n",
    "        [0.0] * (20 - len(BASE_COMPOSITIONS_LOWER_LIMITS)), \n",
    ")\n",
    "df_ref.describe()"
   ]
  },
  {
   "cell_type": "markdown",
   "metadata": {},
   "source": [
    "Get reference fluid property data for each of the impurities."
   ]
  },
  {
   "cell_type": "code",
   "execution_count": 4,
   "metadata": {},
   "outputs": [],
   "source": [
    "from impurities import get_impurities_properties\n",
    "\n",
    "df_impurities = get_impurities_properties(\n",
    "    fluids=list(IMPURITIES_UPPER_LIMITS.keys()),\n",
    "    doe=doe,\n",
    "    df_ref=df_ref,\n",
    "    fluid_property=config['FLUID_PROPERTY'],\n",
    ")"
   ]
  },
  {
   "cell_type": "markdown",
   "metadata": {},
   "source": [
    "Calculate a metric to quantify the error over the range.\n",
    "This is done by intergating the density error over the operating range.\n",
    "\n",
    "Mathematically a double integral of the fluid property error, $\\int_T\\int_p (\\hat\\phi-\\phi_{ref})dpdT$"
   ]
  },
  {
   "cell_type": "code",
   "execution_count": 5,
   "metadata": {},
   "outputs": [
    {
     "data": {
      "text/plain": [
       "WATER       2.590529e+10\n",
       "NITROGEN   -2.050253e+08\n",
       "CO         -2.045429e+08\n",
       "OXYGEN     -1.595037e+08\n",
       "ETHANE     -1.482554e+08\n",
       "Name: Integral of D Deviation over Temperature and Pressure Range, dtype: float64"
      ]
     },
     "execution_count": 5,
     "metadata": {},
     "output_type": "execute_result"
    }
   ],
   "source": [
    "from impurities import get_impact_metrics\n",
    "\n",
    "impact_metrics = {config['FLUID_PROPERTY']: get_impact_metrics(df_impurities, config['FLUID_PROPERTY'])}\n",
    "impact_metrics[config['FLUID_PROPERTY']]"
   ]
  },
  {
   "cell_type": "markdown",
   "metadata": {},
   "source": [
    "And then sort these impact metrics on most significant to least significant"
   ]
  },
  {
   "cell_type": "code",
   "execution_count": 6,
   "metadata": {},
   "outputs": [
    {
     "data": {
      "text/plain": [
       "Index(['WATER', 'NITROGEN', 'CO', 'OXYGEN', 'ETHANE'], dtype='object')"
      ]
     },
     "execution_count": 6,
     "metadata": {},
     "output_type": "execute_result"
    }
   ],
   "source": [
    "from impurities import sort_metrics\n",
    "\n",
    "impurities_sorted = sort_metrics(impact_metrics[config['FLUID_PROPERTY']]).index\n",
    "impurities_sorted"
   ]
  },
  {
   "cell_type": "markdown",
   "metadata": {},
   "source": [
    "We then need to normalise the original compositions so that the total impurities and base compositions sum to 100%"
   ]
  },
  {
   "cell_type": "code",
   "execution_count": 7,
   "metadata": {},
   "outputs": [
    {
     "name": "stdout",
     "output_type": "stream",
     "text": [
      "0.9999999999999999\n"
     ]
    },
    {
     "data": {
      "text/plain": [
       "CO2         0.99953\n",
       "WATER       0.00005\n",
       "NITROGEN    0.00025\n",
       "CO          0.00001\n",
       "OXYGEN      0.00006\n",
       "ETHANE      0.00010\n",
       "dtype: float64"
      ]
     },
     "execution_count": 7,
     "metadata": {},
     "output_type": "execute_result"
    }
   ],
   "source": [
    "\"\"\"BRUTE FORCE METHOD\"\"\"\n",
    "total_impurities = (1 - BASE_COMPOSITIONS_LOWER_LIMITS.sum())\n",
    "sum_impurities = 0\n",
    "impurities_sorted_normalized = {}\n",
    "for impurity in impurities_sorted:\n",
    "    sum_impurities += IMPURITIES_UPPER_LIMITS[impurity]\n",
    "    if sum_impurities < total_impurities:\n",
    "        impurities_sorted_normalized[impurity] = IMPURITIES_UPPER_LIMITS[impurity]\n",
    "    else:\n",
    "        impurities_sorted_normalized[impurity] = IMPURITIES_UPPER_LIMITS[impurity] - (sum_impurities - total_impurities)\n",
    "        break\n",
    "\n",
    "compositions = pd.concat([BASE_COMPOSITIONS_LOWER_LIMITS, pd.Series(impurities_sorted_normalized)])\n",
    "print(compositions.sum())\n",
    "compositions"
   ]
  },
  {
   "cell_type": "markdown",
   "metadata": {},
   "source": [
    "Hence we now have a total compositions array in vol/vol or mol/mol depending on the spec. \n",
    "\n",
    "To convert to mol/mol we can calculate the density of each component and total molar volume.\n",
    "\n",
    "We known the filling conditions for the gas bottles (where the vol/vol compositions array is given for) temperature, $T_{filling}$ and filling pressure, $p_{filling}$ so can calculate the filling density, $\\rho_{filling}=f(T_{filling}, p_{filling})$.\n",
    "\n",
    "Hence we can calculate the molar density, $\\rho_M=\\rho / M$ where $M$ is the molar mass of the component.\n",
    "\n",
    "We can then calculate the number of moles per unit volume using the volume compositions of each component divided by the molar density, $x_{V,i}/\\rho_M$\n",
    "\n",
    "We can then calculate the molar composition, $x_{m,i}$ for each component, $i$, as the ratio of the number of moles of the component, $n_i$, to the total number of moles for each component in a control volume, $V$,\n",
    "\n",
    "$$x_{m,i}=\\frac{n_i}{\\sum_i n_i}=\\frac{n_i / V}{1/V \\sum_i n_i}=\\frac{x_{V,i}/\\rho_M}{\\sum_i x_{V,i}/\\rho_M}"
   ]
  },
  {
   "cell_type": "code",
   "execution_count": 8,
   "metadata": {},
   "outputs": [
    {
     "data": {
      "text/plain": [
       "CO2         0.99953\n",
       "WATER       0.00005\n",
       "NITROGEN    0.00025\n",
       "CO          0.00001\n",
       "OXYGEN      0.00006\n",
       "ETHANE      0.00010\n",
       "dtype: float64"
      ]
     },
     "execution_count": 8,
     "metadata": {},
     "output_type": "execute_result"
    }
   ],
   "source": [
    "from refprop.refprop import RefpropInterface\n",
    "\n",
    "def convert_compositions_to_moles_unit_volume(compositions, temperature_filling, pressure_filling):\n",
    "    def get_molar_mass(fluid):\n",
    "        refprop = RefpropInterface(r\"T:\\Joseph McGovern\\Code\\GitHub\\refprop-dotnet\\refprop\", fluid)\n",
    "        refprop.setup_refprop()\n",
    "        M = refprop.fluid_info['Molar Mass [g/mol]'] / 1000  # kg/mol\n",
    "        return M\n",
    "\n",
    "    def get_property(fluid, fluid_property, temperature, pressure):\n",
    "        return get_fluid_property(\n",
    "            pd.DataFrame({\"Temperature [K]\": [temperature], \"Pressure [Pa]\": [pressure]}, index=[0]), \n",
    "            f\"refprop/FLUIDS/{fluid}\",\n",
    "            fluid_property, \n",
    "            [1.0] + [0] * 19\n",
    "        )[fluid_property].values[0]  # kg/m3\n",
    "\n",
    "    def get_moles_unit_volume(x_v, M, rho):\n",
    "        rho_m = rho / M\n",
    "        return x_v * rho_m\n",
    "\n",
    "    df_filling = pd.DataFrame()\n",
    "    for fluid in compositions.index:\n",
    "        rho = get_property(\n",
    "            fluid, \"D\", temperature_filling, pressure_filling\n",
    "        )  # kg/m3\n",
    "        M = get_molar_mass(fluid=fluid)  # kg/mol\n",
    "        n = get_moles_unit_volume(compositions[fluid], M, rho)\n",
    "        df_filling = pd.concat([\n",
    "            df_filling,\n",
    "            pd.DataFrame({\n",
    "                \"Filling Temperature [K]\": [temperature_filling],\n",
    "                \"Filling Pressure [Pa]\": [pressure_filling],\n",
    "                \"Filling Density [kg/m3]\": [rho],\n",
    "                \"Molar Mass [kg/mol]\": [M],\n",
    "                \"Moles Unit Volume [mol/L]\": [n],\n",
    "            }, index=[fluid])\n",
    "        ])\n",
    "    df_filling[\"Composition [mol/mol]\"] = df_filling[\"Moles Unit Volume [mol/L]\"] / df_filling[\"Moles Unit Volume [mol/L]\"].sum()\n",
    "    df_filling[\"Composition [L/L]\"] = compositions.values\n",
    "    return df_filling\n",
    "\n",
    "if config['COMPOSITIONS_BASIS'] == \"volume\":\n",
    "    compositions_worst_case = convert_compositions_to_moles_unit_volume(\n",
    "        compositions=compositions, \n",
    "        temperature_filling=config['FILLING_CONDITIONS']['TEMPERATURE'], \n",
    "        pressure_filling=config['FILLING_CONDITIONS']['PRESSURE']\n",
    "    )[\"Composition [mol/mol]\"]\n",
    "elif config['COMPOSITIONS_BASIS'] == \"mole\":\n",
    "    compositions_worst_case = compositions\n",
    "else:\n",
    "    raise Exception(\"Invalid 'COMPOSITIONS_BASIS'\")\n",
    "compositions_worst_case"
   ]
  },
  {
   "cell_type": "markdown",
   "metadata": {},
   "source": [
    "Since we now have a \"worst-case\" compositions array, we can calculate the fluid property for this and a \"worst-case\" error"
   ]
  },
  {
   "cell_type": "code",
   "execution_count": 9,
   "metadata": {},
   "outputs": [
    {
     "data": {
      "text/html": [
       "<div>\n",
       "<style scoped>\n",
       "    .dataframe tbody tr th:only-of-type {\n",
       "        vertical-align: middle;\n",
       "    }\n",
       "\n",
       "    .dataframe tbody tr th {\n",
       "        vertical-align: top;\n",
       "    }\n",
       "\n",
       "    .dataframe thead th {\n",
       "        text-align: right;\n",
       "    }\n",
       "</style>\n",
       "<table border=\"1\" class=\"dataframe\">\n",
       "  <thead>\n",
       "    <tr style=\"text-align: right;\">\n",
       "      <th></th>\n",
       "      <th>D</th>\n",
       "      <th>T</th>\n",
       "      <th>P</th>\n",
       "      <th>D Deviation [%]</th>\n",
       "    </tr>\n",
       "  </thead>\n",
       "  <tbody>\n",
       "    <tr>\n",
       "      <th>count</th>\n",
       "      <td>100.000000</td>\n",
       "      <td>100.000000</td>\n",
       "      <td>1.000000e+02</td>\n",
       "      <td>100.000000</td>\n",
       "    </tr>\n",
       "    <tr>\n",
       "      <th>mean</th>\n",
       "      <td>19.208705</td>\n",
       "      <td>316.650000</td>\n",
       "      <td>1.076325e+06</td>\n",
       "      <td>-0.018958</td>\n",
       "    </tr>\n",
       "    <tr>\n",
       "      <th>std</th>\n",
       "      <td>12.112859</td>\n",
       "      <td>4.169752</td>\n",
       "      <td>6.575378e+05</td>\n",
       "      <td>0.001319</td>\n",
       "    </tr>\n",
       "    <tr>\n",
       "      <th>min</th>\n",
       "      <td>0.842192</td>\n",
       "      <td>310.150000</td>\n",
       "      <td>5.132500e+04</td>\n",
       "      <td>-0.021462</td>\n",
       "    </tr>\n",
       "    <tr>\n",
       "      <th>25%</th>\n",
       "      <td>8.662808</td>\n",
       "      <td>313.038889</td>\n",
       "      <td>5.068806e+05</td>\n",
       "      <td>-0.020041</td>\n",
       "    </tr>\n",
       "    <tr>\n",
       "      <th>50%</th>\n",
       "      <td>18.802093</td>\n",
       "      <td>316.650000</td>\n",
       "      <td>1.076325e+06</td>\n",
       "      <td>-0.018900</td>\n",
       "    </tr>\n",
       "    <tr>\n",
       "      <th>75%</th>\n",
       "      <td>29.531094</td>\n",
       "      <td>320.261111</td>\n",
       "      <td>1.645769e+06</td>\n",
       "      <td>-0.017599</td>\n",
       "    </tr>\n",
       "    <tr>\n",
       "      <th>max</th>\n",
       "      <td>39.737976</td>\n",
       "      <td>323.150000</td>\n",
       "      <td>2.101325e+06</td>\n",
       "      <td>-0.017158</td>\n",
       "    </tr>\n",
       "  </tbody>\n",
       "</table>\n",
       "</div>"
      ],
      "text/plain": [
       "                D           T             P  D Deviation [%]\n",
       "count  100.000000  100.000000  1.000000e+02       100.000000\n",
       "mean    19.208705  316.650000  1.076325e+06        -0.018958\n",
       "std     12.112859    4.169752  6.575378e+05         0.001319\n",
       "min      0.842192  310.150000  5.132500e+04        -0.021462\n",
       "25%      8.662808  313.038889  5.068806e+05        -0.020041\n",
       "50%     18.802093  316.650000  1.076325e+06        -0.018900\n",
       "75%     29.531094  320.261111  1.645769e+06        -0.017599\n",
       "max     39.737976  323.150000  2.101325e+06        -0.017158"
      ]
     },
     "execution_count": 9,
     "metadata": {},
     "output_type": "execute_result"
    }
   ],
   "source": [
    "df_worst_case = get_fluid_property(\n",
    "    doe=doe,\n",
    "    hFld=\";\".join(compositions_worst_case.add_prefix(\"refprop/FLUIDS/\").index),\n",
    "    hOut=config['FLUID_PROPERTY'],\n",
    "    z=list(compositions_worst_case.values) + \\\n",
    "        [0.0] * (20 - compositions_worst_case.shape[0]),\n",
    ")\n",
    "\n",
    "deviation_col = f\"{config['FLUID_PROPERTY']} Deviation [%]\"\n",
    "df_worst_case[deviation_col] = (df_worst_case.D - df_ref.D) / df_ref.D * 100.0\n",
    "df_worst_case.describe()"
   ]
  },
  {
   "cell_type": "markdown",
   "metadata": {},
   "source": [
    "And some pretty plots"
   ]
  },
  {
   "cell_type": "code",
   "execution_count": 10,
   "metadata": {},
   "outputs": [
    {
     "data": {
      "application/vnd.plotly.v1+json": {
       "config": {
        "plotlyServerURL": "https://plot.ly"
       },
       "data": [
        {
         "coloraxis": "coloraxis",
         "hovertemplate": "Pressure [Pa]: %{x}<br>Temperature [K]: %{y}<br>D Deviation [%]: %{z}<extra></extra>",
         "name": "0",
         "type": "heatmap",
         "x": [
          51325,
          279102.77777777775,
          506880.55555555556,
          734658.3333333334,
          962436.1111111111,
          1190213.888888889,
          1417991.6666666667,
          1645769.4444444445,
          1873547.2222222222,
          2101325
         ],
         "xaxis": "x",
         "y": [
          310.15,
          311.59444444444443,
          313.0388888888889,
          314.4833333333333,
          315.92777777777775,
          317.3722222222222,
          318.81666666666666,
          320.26111111111106,
          321.7055555555555,
          323.15
         ],
         "yaxis": "y",
         "z": [
          [
           -0.017281627938965184,
           -0.01762103506736648,
           -0.017395512629717627,
           -0.01837886191122858,
           -0.018801389619941173,
           -0.01925625112675489,
           -0.019746290484016764,
           -0.020274747458095436,
           -0.020845327634449583,
           -0.02146228795176544
          ],
          [
           -0.017280739374257895,
           -0.017615778609730706,
           -0.01715759985090145,
           -0.018362485116589573,
           -0.01877802126723971,
           -0.019224745024532017,
           -0.019705322237598324,
           -0.020222780193340575,
           -0.02078056980250906,
           -0.021382641042513435
          ],
          [
           -0.017279867349089064,
           -0.01761062604505443,
           -0.017170628161537686,
           -0.01834647368880278,
           -0.01875520665224502,
           -0.01919403194821055,
           -0.019665449554318627,
           -0.02017228979939276,
           -0.02071776856684627,
           -0.021305553901222834
          ],
          [
           -0.017279011435619197,
           -0.017605574509328873,
           -0.01718379214554338,
           -0.018330816121965614,
           -0.018732927093980424,
           -0.019164083232592312,
           -0.01962663001469955,
           -0.02012321504828028,
           -0.02065683711385724,
           -0.021230905020785406
          ],
          [
           -0.017278171219028766,
           -0.01760062123275072,
           -0.017197073056455032,
           -0.018315501355984264,
           -0.018711164699307756,
           -0.019134871527404822,
           -0.01958882330985703,
           -0.020075498006866397,
           -0.020597693666752893,
           -0.021158580477805493
          ],
          [
           -0.017277346297391753,
           -0.017595763536432846,
           -0.01721043912826158,
           -0.01830051875572043,
           -0.018689902322951896,
           -0.019106370722768783,
           -0.01955199110904044,
           -0.020029083809972918,
           -0.020540261112162738,
           -0.021088473328091283
          ],
          [
           -0.017276536281222315,
           -0.017590998829163127,
           -0.017223842940198755,
           -0.018285858093755533,
           -0.01866912353176969,
           -0.01907855588285593,
           -0.01951609694304741,
           -0.019983920463519392,
           -0.020484466671800077,
           -0.021020483074948998
          ],
          [
           -0.01727574079301693,
           -0.01758632460566607,
           -0.01723722029069833,
           -0.01827150953534329,
           -0.018648812573744625,
           -0.019051403187524393,
           -0.019481106100746434,
           -0.01993995866655529,
           -0.020430241611551932,
           -0.020954515198844267
          ],
          [
           -0.017274959467335836,
           -0.01758173844387678,
           -0.01725048672037847,
           -0.01825746362384855,
           -0.018628954350214708,
           -0.019024889879647854,
           -0.019446985535376157,
           -0.01989715165362527,
           -0.020377520979301695,
           -0.020890480736776074
          ],
          [
           -0.0172741919503528,
           -0.017577238003309743,
           -0.017263538086223527,
           -0.018243711268188155,
           -0.018609534389362158,
           -0.01899899421666123,
           -0.019413703778868727,
           -0.019855455049205026,
           -0.020326243368129573,
           -0.020828295901555532
          ]
         ]
        }
       ],
       "layout": {
        "coloraxis": {
         "colorbar": {
          "title": {
           "text": "D Deviation [%]"
          }
         },
         "colorscale": [
          [
           0,
           "#0d0887"
          ],
          [
           0.1111111111111111,
           "#46039f"
          ],
          [
           0.2222222222222222,
           "#7201a8"
          ],
          [
           0.3333333333333333,
           "#9c179e"
          ],
          [
           0.4444444444444444,
           "#bd3786"
          ],
          [
           0.5555555555555556,
           "#d8576b"
          ],
          [
           0.6666666666666666,
           "#ed7953"
          ],
          [
           0.7777777777777778,
           "#fb9f3a"
          ],
          [
           0.8888888888888888,
           "#fdca26"
          ],
          [
           1,
           "#f0f921"
          ]
         ]
        },
        "paper_bgcolor": "#1f1f1f",
        "template": {
         "data": {
          "bar": [
           {
            "error_x": {
             "color": "#f2f5fa"
            },
            "error_y": {
             "color": "#f2f5fa"
            },
            "marker": {
             "line": {
              "color": "rgb(17,17,17)",
              "width": 0.5
             },
             "pattern": {
              "fillmode": "overlay",
              "size": 10,
              "solidity": 0.2
             }
            },
            "type": "bar"
           }
          ],
          "barpolar": [
           {
            "marker": {
             "line": {
              "color": "rgb(17,17,17)",
              "width": 0.5
             },
             "pattern": {
              "fillmode": "overlay",
              "size": 10,
              "solidity": 0.2
             }
            },
            "type": "barpolar"
           }
          ],
          "carpet": [
           {
            "aaxis": {
             "endlinecolor": "#A2B1C6",
             "gridcolor": "#506784",
             "linecolor": "#506784",
             "minorgridcolor": "#506784",
             "startlinecolor": "#A2B1C6"
            },
            "baxis": {
             "endlinecolor": "#A2B1C6",
             "gridcolor": "#506784",
             "linecolor": "#506784",
             "minorgridcolor": "#506784",
             "startlinecolor": "#A2B1C6"
            },
            "type": "carpet"
           }
          ],
          "choropleth": [
           {
            "colorbar": {
             "outlinewidth": 0,
             "ticks": ""
            },
            "type": "choropleth"
           }
          ],
          "contour": [
           {
            "colorbar": {
             "outlinewidth": 0,
             "ticks": ""
            },
            "colorscale": [
             [
              0,
              "#0d0887"
             ],
             [
              0.1111111111111111,
              "#46039f"
             ],
             [
              0.2222222222222222,
              "#7201a8"
             ],
             [
              0.3333333333333333,
              "#9c179e"
             ],
             [
              0.4444444444444444,
              "#bd3786"
             ],
             [
              0.5555555555555556,
              "#d8576b"
             ],
             [
              0.6666666666666666,
              "#ed7953"
             ],
             [
              0.7777777777777778,
              "#fb9f3a"
             ],
             [
              0.8888888888888888,
              "#fdca26"
             ],
             [
              1,
              "#f0f921"
             ]
            ],
            "type": "contour"
           }
          ],
          "contourcarpet": [
           {
            "colorbar": {
             "outlinewidth": 0,
             "ticks": ""
            },
            "type": "contourcarpet"
           }
          ],
          "heatmap": [
           {
            "colorbar": {
             "outlinewidth": 0,
             "ticks": ""
            },
            "colorscale": [
             [
              0,
              "#0d0887"
             ],
             [
              0.1111111111111111,
              "#46039f"
             ],
             [
              0.2222222222222222,
              "#7201a8"
             ],
             [
              0.3333333333333333,
              "#9c179e"
             ],
             [
              0.4444444444444444,
              "#bd3786"
             ],
             [
              0.5555555555555556,
              "#d8576b"
             ],
             [
              0.6666666666666666,
              "#ed7953"
             ],
             [
              0.7777777777777778,
              "#fb9f3a"
             ],
             [
              0.8888888888888888,
              "#fdca26"
             ],
             [
              1,
              "#f0f921"
             ]
            ],
            "type": "heatmap"
           }
          ],
          "heatmapgl": [
           {
            "colorbar": {
             "outlinewidth": 0,
             "ticks": ""
            },
            "colorscale": [
             [
              0,
              "#0d0887"
             ],
             [
              0.1111111111111111,
              "#46039f"
             ],
             [
              0.2222222222222222,
              "#7201a8"
             ],
             [
              0.3333333333333333,
              "#9c179e"
             ],
             [
              0.4444444444444444,
              "#bd3786"
             ],
             [
              0.5555555555555556,
              "#d8576b"
             ],
             [
              0.6666666666666666,
              "#ed7953"
             ],
             [
              0.7777777777777778,
              "#fb9f3a"
             ],
             [
              0.8888888888888888,
              "#fdca26"
             ],
             [
              1,
              "#f0f921"
             ]
            ],
            "type": "heatmapgl"
           }
          ],
          "histogram": [
           {
            "marker": {
             "pattern": {
              "fillmode": "overlay",
              "size": 10,
              "solidity": 0.2
             }
            },
            "type": "histogram"
           }
          ],
          "histogram2d": [
           {
            "colorbar": {
             "outlinewidth": 0,
             "ticks": ""
            },
            "colorscale": [
             [
              0,
              "#0d0887"
             ],
             [
              0.1111111111111111,
              "#46039f"
             ],
             [
              0.2222222222222222,
              "#7201a8"
             ],
             [
              0.3333333333333333,
              "#9c179e"
             ],
             [
              0.4444444444444444,
              "#bd3786"
             ],
             [
              0.5555555555555556,
              "#d8576b"
             ],
             [
              0.6666666666666666,
              "#ed7953"
             ],
             [
              0.7777777777777778,
              "#fb9f3a"
             ],
             [
              0.8888888888888888,
              "#fdca26"
             ],
             [
              1,
              "#f0f921"
             ]
            ],
            "type": "histogram2d"
           }
          ],
          "histogram2dcontour": [
           {
            "colorbar": {
             "outlinewidth": 0,
             "ticks": ""
            },
            "colorscale": [
             [
              0,
              "#0d0887"
             ],
             [
              0.1111111111111111,
              "#46039f"
             ],
             [
              0.2222222222222222,
              "#7201a8"
             ],
             [
              0.3333333333333333,
              "#9c179e"
             ],
             [
              0.4444444444444444,
              "#bd3786"
             ],
             [
              0.5555555555555556,
              "#d8576b"
             ],
             [
              0.6666666666666666,
              "#ed7953"
             ],
             [
              0.7777777777777778,
              "#fb9f3a"
             ],
             [
              0.8888888888888888,
              "#fdca26"
             ],
             [
              1,
              "#f0f921"
             ]
            ],
            "type": "histogram2dcontour"
           }
          ],
          "mesh3d": [
           {
            "colorbar": {
             "outlinewidth": 0,
             "ticks": ""
            },
            "type": "mesh3d"
           }
          ],
          "parcoords": [
           {
            "line": {
             "colorbar": {
              "outlinewidth": 0,
              "ticks": ""
             }
            },
            "type": "parcoords"
           }
          ],
          "pie": [
           {
            "automargin": true,
            "type": "pie"
           }
          ],
          "scatter": [
           {
            "marker": {
             "line": {
              "color": "#283442"
             }
            },
            "type": "scatter"
           }
          ],
          "scatter3d": [
           {
            "line": {
             "colorbar": {
              "outlinewidth": 0,
              "ticks": ""
             }
            },
            "marker": {
             "colorbar": {
              "outlinewidth": 0,
              "ticks": ""
             }
            },
            "type": "scatter3d"
           }
          ],
          "scattercarpet": [
           {
            "marker": {
             "colorbar": {
              "outlinewidth": 0,
              "ticks": ""
             }
            },
            "type": "scattercarpet"
           }
          ],
          "scattergeo": [
           {
            "marker": {
             "colorbar": {
              "outlinewidth": 0,
              "ticks": ""
             }
            },
            "type": "scattergeo"
           }
          ],
          "scattergl": [
           {
            "marker": {
             "line": {
              "color": "#283442"
             }
            },
            "type": "scattergl"
           }
          ],
          "scattermapbox": [
           {
            "marker": {
             "colorbar": {
              "outlinewidth": 0,
              "ticks": ""
             }
            },
            "type": "scattermapbox"
           }
          ],
          "scatterpolar": [
           {
            "marker": {
             "colorbar": {
              "outlinewidth": 0,
              "ticks": ""
             }
            },
            "type": "scatterpolar"
           }
          ],
          "scatterpolargl": [
           {
            "marker": {
             "colorbar": {
              "outlinewidth": 0,
              "ticks": ""
             }
            },
            "type": "scatterpolargl"
           }
          ],
          "scatterternary": [
           {
            "marker": {
             "colorbar": {
              "outlinewidth": 0,
              "ticks": ""
             }
            },
            "type": "scatterternary"
           }
          ],
          "surface": [
           {
            "colorbar": {
             "outlinewidth": 0,
             "ticks": ""
            },
            "colorscale": [
             [
              0,
              "#0d0887"
             ],
             [
              0.1111111111111111,
              "#46039f"
             ],
             [
              0.2222222222222222,
              "#7201a8"
             ],
             [
              0.3333333333333333,
              "#9c179e"
             ],
             [
              0.4444444444444444,
              "#bd3786"
             ],
             [
              0.5555555555555556,
              "#d8576b"
             ],
             [
              0.6666666666666666,
              "#ed7953"
             ],
             [
              0.7777777777777778,
              "#fb9f3a"
             ],
             [
              0.8888888888888888,
              "#fdca26"
             ],
             [
              1,
              "#f0f921"
             ]
            ],
            "type": "surface"
           }
          ],
          "table": [
           {
            "cells": {
             "fill": {
              "color": "#506784"
             },
             "line": {
              "color": "rgb(17,17,17)"
             }
            },
            "header": {
             "fill": {
              "color": "#2a3f5f"
             },
             "line": {
              "color": "rgb(17,17,17)"
             }
            },
            "type": "table"
           }
          ]
         },
         "layout": {
          "annotationdefaults": {
           "arrowcolor": "#f2f5fa",
           "arrowhead": 0,
           "arrowwidth": 1
          },
          "autotypenumbers": "strict",
          "coloraxis": {
           "colorbar": {
            "outlinewidth": 0,
            "ticks": ""
           }
          },
          "colorscale": {
           "diverging": [
            [
             0,
             "#8e0152"
            ],
            [
             0.1,
             "#c51b7d"
            ],
            [
             0.2,
             "#de77ae"
            ],
            [
             0.3,
             "#f1b6da"
            ],
            [
             0.4,
             "#fde0ef"
            ],
            [
             0.5,
             "#f7f7f7"
            ],
            [
             0.6,
             "#e6f5d0"
            ],
            [
             0.7,
             "#b8e186"
            ],
            [
             0.8,
             "#7fbc41"
            ],
            [
             0.9,
             "#4d9221"
            ],
            [
             1,
             "#276419"
            ]
           ],
           "sequential": [
            [
             0,
             "#0d0887"
            ],
            [
             0.1111111111111111,
             "#46039f"
            ],
            [
             0.2222222222222222,
             "#7201a8"
            ],
            [
             0.3333333333333333,
             "#9c179e"
            ],
            [
             0.4444444444444444,
             "#bd3786"
            ],
            [
             0.5555555555555556,
             "#d8576b"
            ],
            [
             0.6666666666666666,
             "#ed7953"
            ],
            [
             0.7777777777777778,
             "#fb9f3a"
            ],
            [
             0.8888888888888888,
             "#fdca26"
            ],
            [
             1,
             "#f0f921"
            ]
           ],
           "sequentialminus": [
            [
             0,
             "#0d0887"
            ],
            [
             0.1111111111111111,
             "#46039f"
            ],
            [
             0.2222222222222222,
             "#7201a8"
            ],
            [
             0.3333333333333333,
             "#9c179e"
            ],
            [
             0.4444444444444444,
             "#bd3786"
            ],
            [
             0.5555555555555556,
             "#d8576b"
            ],
            [
             0.6666666666666666,
             "#ed7953"
            ],
            [
             0.7777777777777778,
             "#fb9f3a"
            ],
            [
             0.8888888888888888,
             "#fdca26"
            ],
            [
             1,
             "#f0f921"
            ]
           ]
          },
          "colorway": [
           "#636efa",
           "#EF553B",
           "#00cc96",
           "#ab63fa",
           "#FFA15A",
           "#19d3f3",
           "#FF6692",
           "#B6E880",
           "#FF97FF",
           "#FECB52"
          ],
          "font": {
           "color": "#f2f5fa"
          },
          "geo": {
           "bgcolor": "rgb(17,17,17)",
           "lakecolor": "rgb(17,17,17)",
           "landcolor": "rgb(17,17,17)",
           "showlakes": true,
           "showland": true,
           "subunitcolor": "#506784"
          },
          "hoverlabel": {
           "align": "left"
          },
          "hovermode": "closest",
          "mapbox": {
           "style": "dark"
          },
          "paper_bgcolor": "rgb(17,17,17)",
          "plot_bgcolor": "rgb(17,17,17)",
          "polar": {
           "angularaxis": {
            "gridcolor": "#506784",
            "linecolor": "#506784",
            "ticks": ""
           },
           "bgcolor": "rgb(17,17,17)",
           "radialaxis": {
            "gridcolor": "#506784",
            "linecolor": "#506784",
            "ticks": ""
           }
          },
          "scene": {
           "xaxis": {
            "backgroundcolor": "rgb(17,17,17)",
            "gridcolor": "#506784",
            "gridwidth": 2,
            "linecolor": "#506784",
            "showbackground": true,
            "ticks": "",
            "zerolinecolor": "#C8D4E3"
           },
           "yaxis": {
            "backgroundcolor": "rgb(17,17,17)",
            "gridcolor": "#506784",
            "gridwidth": 2,
            "linecolor": "#506784",
            "showbackground": true,
            "ticks": "",
            "zerolinecolor": "#C8D4E3"
           },
           "zaxis": {
            "backgroundcolor": "rgb(17,17,17)",
            "gridcolor": "#506784",
            "gridwidth": 2,
            "linecolor": "#506784",
            "showbackground": true,
            "ticks": "",
            "zerolinecolor": "#C8D4E3"
           }
          },
          "shapedefaults": {
           "line": {
            "color": "#f2f5fa"
           }
          },
          "sliderdefaults": {
           "bgcolor": "#C8D4E3",
           "bordercolor": "rgb(17,17,17)",
           "borderwidth": 1,
           "tickwidth": 0
          },
          "ternary": {
           "aaxis": {
            "gridcolor": "#506784",
            "linecolor": "#506784",
            "ticks": ""
           },
           "baxis": {
            "gridcolor": "#506784",
            "linecolor": "#506784",
            "ticks": ""
           },
           "bgcolor": "rgb(17,17,17)",
           "caxis": {
            "gridcolor": "#506784",
            "linecolor": "#506784",
            "ticks": ""
           }
          },
          "title": {
           "x": 0.05
          },
          "updatemenudefaults": {
           "bgcolor": "#506784",
           "borderwidth": 0
          },
          "xaxis": {
           "automargin": true,
           "gridcolor": "#283442",
           "linecolor": "#506784",
           "ticks": "",
           "title": {
            "standoff": 15
           },
           "zerolinecolor": "#283442",
           "zerolinewidth": 2
          },
          "yaxis": {
           "automargin": true,
           "gridcolor": "#283442",
           "linecolor": "#506784",
           "ticks": "",
           "title": {
            "standoff": 15
           },
           "zerolinecolor": "#283442",
           "zerolinewidth": 2
          }
         }
        },
        "title": {
         "text": "D Deviation [%] vs. Temperature and Pressure"
        },
        "xaxis": {
         "anchor": "y",
         "autorange": 0,
         "domain": [
          0,
          1
         ],
         "title": {
          "text": "Pressure [Pa]"
         }
        },
        "yaxis": {
         "anchor": "x",
         "autorange": 0,
         "domain": [
          0,
          1
         ],
         "title": {
          "text": "Temperature [K]"
         }
        }
       }
      }
     },
     "metadata": {},
     "output_type": "display_data"
    },
    {
     "data": {
      "application/vnd.plotly.v1+json": {
       "config": {
        "plotlyServerURL": "https://plot.ly"
       },
       "data": [
        {
         "alignmentgroup": "True",
         "bingroup": "x",
         "hovertemplate": "D Deviation [%]=%{x}<br>count=%{y}<extra></extra>",
         "legendgroup": "",
         "marker": {
          "color": "#636efa",
          "pattern": {
           "shape": ""
          }
         },
         "name": "",
         "offsetgroup": "",
         "orientation": "v",
         "showlegend": false,
         "type": "histogram",
         "x": [
          -0.017281627938965184,
          -0.017280739374257895,
          -0.017279867349089064,
          -0.017279011435619197,
          -0.017278171219028766,
          -0.017277346297391753,
          -0.017276536281222315,
          -0.01727574079301693,
          -0.017274959467335836,
          -0.0172741919503528,
          -0.01762103506736648,
          -0.017615778609730706,
          -0.01761062604505443,
          -0.017605574509328873,
          -0.01760062123275072,
          -0.017595763536432846,
          -0.017590998829163127,
          -0.01758632460566607,
          -0.01758173844387678,
          -0.017577238003309743,
          -0.017395512629717627,
          -0.01715759985090145,
          -0.017170628161537686,
          -0.01718379214554338,
          -0.017197073056455032,
          -0.01721043912826158,
          -0.017223842940198755,
          -0.01723722029069833,
          -0.01725048672037847,
          -0.017263538086223527,
          -0.01837886191122858,
          -0.018362485116589573,
          -0.01834647368880278,
          -0.018330816121965614,
          -0.018315501355984264,
          -0.01830051875572043,
          -0.018285858093755533,
          -0.01827150953534329,
          -0.01825746362384855,
          -0.018243711268188155,
          -0.018801389619941173,
          -0.01877802126723971,
          -0.01875520665224502,
          -0.018732927093980424,
          -0.018711164699307756,
          -0.018689902322951896,
          -0.01866912353176969,
          -0.018648812573744625,
          -0.018628954350214708,
          -0.018609534389362158,
          -0.01925625112675489,
          -0.019224745024532017,
          -0.01919403194821055,
          -0.019164083232592312,
          -0.019134871527404822,
          -0.019106370722768783,
          -0.01907855588285593,
          -0.019051403187524393,
          -0.019024889879647854,
          -0.01899899421666123,
          -0.019746290484016764,
          -0.019705322237598324,
          -0.019665449554318627,
          -0.01962663001469955,
          -0.01958882330985703,
          -0.01955199110904044,
          -0.01951609694304741,
          -0.019481106100746434,
          -0.019446985535376157,
          -0.019413703778868727,
          -0.020274747458095436,
          -0.020222780193340575,
          -0.02017228979939276,
          -0.02012321504828028,
          -0.020075498006866397,
          -0.020029083809972918,
          -0.019983920463519392,
          -0.01993995866655529,
          -0.01989715165362527,
          -0.019855455049205026,
          -0.020845327634449583,
          -0.02078056980250906,
          -0.02071776856684627,
          -0.02065683711385724,
          -0.020597693666752893,
          -0.020540261112162738,
          -0.020484466671800077,
          -0.020430241611551932,
          -0.020377520979301695,
          -0.020326243368129573,
          -0.02146228795176544,
          -0.021382641042513435,
          -0.021305553901222834,
          -0.021230905020785406,
          -0.021158580477805493,
          -0.021088473328091283,
          -0.021020483074948998,
          -0.020954515198844267,
          -0.020890480736776074,
          -0.020828295901555532
         ],
         "xaxis": "x",
         "yaxis": "y"
        }
       ],
       "layout": {
        "barmode": "relative",
        "legend": {
         "tracegroupgap": 0
        },
        "paper_bgcolor": "#1f1f1f",
        "template": {
         "data": {
          "bar": [
           {
            "error_x": {
             "color": "#f2f5fa"
            },
            "error_y": {
             "color": "#f2f5fa"
            },
            "marker": {
             "line": {
              "color": "rgb(17,17,17)",
              "width": 0.5
             },
             "pattern": {
              "fillmode": "overlay",
              "size": 10,
              "solidity": 0.2
             }
            },
            "type": "bar"
           }
          ],
          "barpolar": [
           {
            "marker": {
             "line": {
              "color": "rgb(17,17,17)",
              "width": 0.5
             },
             "pattern": {
              "fillmode": "overlay",
              "size": 10,
              "solidity": 0.2
             }
            },
            "type": "barpolar"
           }
          ],
          "carpet": [
           {
            "aaxis": {
             "endlinecolor": "#A2B1C6",
             "gridcolor": "#506784",
             "linecolor": "#506784",
             "minorgridcolor": "#506784",
             "startlinecolor": "#A2B1C6"
            },
            "baxis": {
             "endlinecolor": "#A2B1C6",
             "gridcolor": "#506784",
             "linecolor": "#506784",
             "minorgridcolor": "#506784",
             "startlinecolor": "#A2B1C6"
            },
            "type": "carpet"
           }
          ],
          "choropleth": [
           {
            "colorbar": {
             "outlinewidth": 0,
             "ticks": ""
            },
            "type": "choropleth"
           }
          ],
          "contour": [
           {
            "colorbar": {
             "outlinewidth": 0,
             "ticks": ""
            },
            "colorscale": [
             [
              0,
              "#0d0887"
             ],
             [
              0.1111111111111111,
              "#46039f"
             ],
             [
              0.2222222222222222,
              "#7201a8"
             ],
             [
              0.3333333333333333,
              "#9c179e"
             ],
             [
              0.4444444444444444,
              "#bd3786"
             ],
             [
              0.5555555555555556,
              "#d8576b"
             ],
             [
              0.6666666666666666,
              "#ed7953"
             ],
             [
              0.7777777777777778,
              "#fb9f3a"
             ],
             [
              0.8888888888888888,
              "#fdca26"
             ],
             [
              1,
              "#f0f921"
             ]
            ],
            "type": "contour"
           }
          ],
          "contourcarpet": [
           {
            "colorbar": {
             "outlinewidth": 0,
             "ticks": ""
            },
            "type": "contourcarpet"
           }
          ],
          "heatmap": [
           {
            "colorbar": {
             "outlinewidth": 0,
             "ticks": ""
            },
            "colorscale": [
             [
              0,
              "#0d0887"
             ],
             [
              0.1111111111111111,
              "#46039f"
             ],
             [
              0.2222222222222222,
              "#7201a8"
             ],
             [
              0.3333333333333333,
              "#9c179e"
             ],
             [
              0.4444444444444444,
              "#bd3786"
             ],
             [
              0.5555555555555556,
              "#d8576b"
             ],
             [
              0.6666666666666666,
              "#ed7953"
             ],
             [
              0.7777777777777778,
              "#fb9f3a"
             ],
             [
              0.8888888888888888,
              "#fdca26"
             ],
             [
              1,
              "#f0f921"
             ]
            ],
            "type": "heatmap"
           }
          ],
          "heatmapgl": [
           {
            "colorbar": {
             "outlinewidth": 0,
             "ticks": ""
            },
            "colorscale": [
             [
              0,
              "#0d0887"
             ],
             [
              0.1111111111111111,
              "#46039f"
             ],
             [
              0.2222222222222222,
              "#7201a8"
             ],
             [
              0.3333333333333333,
              "#9c179e"
             ],
             [
              0.4444444444444444,
              "#bd3786"
             ],
             [
              0.5555555555555556,
              "#d8576b"
             ],
             [
              0.6666666666666666,
              "#ed7953"
             ],
             [
              0.7777777777777778,
              "#fb9f3a"
             ],
             [
              0.8888888888888888,
              "#fdca26"
             ],
             [
              1,
              "#f0f921"
             ]
            ],
            "type": "heatmapgl"
           }
          ],
          "histogram": [
           {
            "marker": {
             "pattern": {
              "fillmode": "overlay",
              "size": 10,
              "solidity": 0.2
             }
            },
            "type": "histogram"
           }
          ],
          "histogram2d": [
           {
            "colorbar": {
             "outlinewidth": 0,
             "ticks": ""
            },
            "colorscale": [
             [
              0,
              "#0d0887"
             ],
             [
              0.1111111111111111,
              "#46039f"
             ],
             [
              0.2222222222222222,
              "#7201a8"
             ],
             [
              0.3333333333333333,
              "#9c179e"
             ],
             [
              0.4444444444444444,
              "#bd3786"
             ],
             [
              0.5555555555555556,
              "#d8576b"
             ],
             [
              0.6666666666666666,
              "#ed7953"
             ],
             [
              0.7777777777777778,
              "#fb9f3a"
             ],
             [
              0.8888888888888888,
              "#fdca26"
             ],
             [
              1,
              "#f0f921"
             ]
            ],
            "type": "histogram2d"
           }
          ],
          "histogram2dcontour": [
           {
            "colorbar": {
             "outlinewidth": 0,
             "ticks": ""
            },
            "colorscale": [
             [
              0,
              "#0d0887"
             ],
             [
              0.1111111111111111,
              "#46039f"
             ],
             [
              0.2222222222222222,
              "#7201a8"
             ],
             [
              0.3333333333333333,
              "#9c179e"
             ],
             [
              0.4444444444444444,
              "#bd3786"
             ],
             [
              0.5555555555555556,
              "#d8576b"
             ],
             [
              0.6666666666666666,
              "#ed7953"
             ],
             [
              0.7777777777777778,
              "#fb9f3a"
             ],
             [
              0.8888888888888888,
              "#fdca26"
             ],
             [
              1,
              "#f0f921"
             ]
            ],
            "type": "histogram2dcontour"
           }
          ],
          "mesh3d": [
           {
            "colorbar": {
             "outlinewidth": 0,
             "ticks": ""
            },
            "type": "mesh3d"
           }
          ],
          "parcoords": [
           {
            "line": {
             "colorbar": {
              "outlinewidth": 0,
              "ticks": ""
             }
            },
            "type": "parcoords"
           }
          ],
          "pie": [
           {
            "automargin": true,
            "type": "pie"
           }
          ],
          "scatter": [
           {
            "marker": {
             "line": {
              "color": "#283442"
             }
            },
            "type": "scatter"
           }
          ],
          "scatter3d": [
           {
            "line": {
             "colorbar": {
              "outlinewidth": 0,
              "ticks": ""
             }
            },
            "marker": {
             "colorbar": {
              "outlinewidth": 0,
              "ticks": ""
             }
            },
            "type": "scatter3d"
           }
          ],
          "scattercarpet": [
           {
            "marker": {
             "colorbar": {
              "outlinewidth": 0,
              "ticks": ""
             }
            },
            "type": "scattercarpet"
           }
          ],
          "scattergeo": [
           {
            "marker": {
             "colorbar": {
              "outlinewidth": 0,
              "ticks": ""
             }
            },
            "type": "scattergeo"
           }
          ],
          "scattergl": [
           {
            "marker": {
             "line": {
              "color": "#283442"
             }
            },
            "type": "scattergl"
           }
          ],
          "scattermapbox": [
           {
            "marker": {
             "colorbar": {
              "outlinewidth": 0,
              "ticks": ""
             }
            },
            "type": "scattermapbox"
           }
          ],
          "scatterpolar": [
           {
            "marker": {
             "colorbar": {
              "outlinewidth": 0,
              "ticks": ""
             }
            },
            "type": "scatterpolar"
           }
          ],
          "scatterpolargl": [
           {
            "marker": {
             "colorbar": {
              "outlinewidth": 0,
              "ticks": ""
             }
            },
            "type": "scatterpolargl"
           }
          ],
          "scatterternary": [
           {
            "marker": {
             "colorbar": {
              "outlinewidth": 0,
              "ticks": ""
             }
            },
            "type": "scatterternary"
           }
          ],
          "surface": [
           {
            "colorbar": {
             "outlinewidth": 0,
             "ticks": ""
            },
            "colorscale": [
             [
              0,
              "#0d0887"
             ],
             [
              0.1111111111111111,
              "#46039f"
             ],
             [
              0.2222222222222222,
              "#7201a8"
             ],
             [
              0.3333333333333333,
              "#9c179e"
             ],
             [
              0.4444444444444444,
              "#bd3786"
             ],
             [
              0.5555555555555556,
              "#d8576b"
             ],
             [
              0.6666666666666666,
              "#ed7953"
             ],
             [
              0.7777777777777778,
              "#fb9f3a"
             ],
             [
              0.8888888888888888,
              "#fdca26"
             ],
             [
              1,
              "#f0f921"
             ]
            ],
            "type": "surface"
           }
          ],
          "table": [
           {
            "cells": {
             "fill": {
              "color": "#506784"
             },
             "line": {
              "color": "rgb(17,17,17)"
             }
            },
            "header": {
             "fill": {
              "color": "#2a3f5f"
             },
             "line": {
              "color": "rgb(17,17,17)"
             }
            },
            "type": "table"
           }
          ]
         },
         "layout": {
          "annotationdefaults": {
           "arrowcolor": "#f2f5fa",
           "arrowhead": 0,
           "arrowwidth": 1
          },
          "autotypenumbers": "strict",
          "coloraxis": {
           "colorbar": {
            "outlinewidth": 0,
            "ticks": ""
           }
          },
          "colorscale": {
           "diverging": [
            [
             0,
             "#8e0152"
            ],
            [
             0.1,
             "#c51b7d"
            ],
            [
             0.2,
             "#de77ae"
            ],
            [
             0.3,
             "#f1b6da"
            ],
            [
             0.4,
             "#fde0ef"
            ],
            [
             0.5,
             "#f7f7f7"
            ],
            [
             0.6,
             "#e6f5d0"
            ],
            [
             0.7,
             "#b8e186"
            ],
            [
             0.8,
             "#7fbc41"
            ],
            [
             0.9,
             "#4d9221"
            ],
            [
             1,
             "#276419"
            ]
           ],
           "sequential": [
            [
             0,
             "#0d0887"
            ],
            [
             0.1111111111111111,
             "#46039f"
            ],
            [
             0.2222222222222222,
             "#7201a8"
            ],
            [
             0.3333333333333333,
             "#9c179e"
            ],
            [
             0.4444444444444444,
             "#bd3786"
            ],
            [
             0.5555555555555556,
             "#d8576b"
            ],
            [
             0.6666666666666666,
             "#ed7953"
            ],
            [
             0.7777777777777778,
             "#fb9f3a"
            ],
            [
             0.8888888888888888,
             "#fdca26"
            ],
            [
             1,
             "#f0f921"
            ]
           ],
           "sequentialminus": [
            [
             0,
             "#0d0887"
            ],
            [
             0.1111111111111111,
             "#46039f"
            ],
            [
             0.2222222222222222,
             "#7201a8"
            ],
            [
             0.3333333333333333,
             "#9c179e"
            ],
            [
             0.4444444444444444,
             "#bd3786"
            ],
            [
             0.5555555555555556,
             "#d8576b"
            ],
            [
             0.6666666666666666,
             "#ed7953"
            ],
            [
             0.7777777777777778,
             "#fb9f3a"
            ],
            [
             0.8888888888888888,
             "#fdca26"
            ],
            [
             1,
             "#f0f921"
            ]
           ]
          },
          "colorway": [
           "#636efa",
           "#EF553B",
           "#00cc96",
           "#ab63fa",
           "#FFA15A",
           "#19d3f3",
           "#FF6692",
           "#B6E880",
           "#FF97FF",
           "#FECB52"
          ],
          "font": {
           "color": "#f2f5fa"
          },
          "geo": {
           "bgcolor": "rgb(17,17,17)",
           "lakecolor": "rgb(17,17,17)",
           "landcolor": "rgb(17,17,17)",
           "showlakes": true,
           "showland": true,
           "subunitcolor": "#506784"
          },
          "hoverlabel": {
           "align": "left"
          },
          "hovermode": "closest",
          "mapbox": {
           "style": "dark"
          },
          "paper_bgcolor": "rgb(17,17,17)",
          "plot_bgcolor": "rgb(17,17,17)",
          "polar": {
           "angularaxis": {
            "gridcolor": "#506784",
            "linecolor": "#506784",
            "ticks": ""
           },
           "bgcolor": "rgb(17,17,17)",
           "radialaxis": {
            "gridcolor": "#506784",
            "linecolor": "#506784",
            "ticks": ""
           }
          },
          "scene": {
           "xaxis": {
            "backgroundcolor": "rgb(17,17,17)",
            "gridcolor": "#506784",
            "gridwidth": 2,
            "linecolor": "#506784",
            "showbackground": true,
            "ticks": "",
            "zerolinecolor": "#C8D4E3"
           },
           "yaxis": {
            "backgroundcolor": "rgb(17,17,17)",
            "gridcolor": "#506784",
            "gridwidth": 2,
            "linecolor": "#506784",
            "showbackground": true,
            "ticks": "",
            "zerolinecolor": "#C8D4E3"
           },
           "zaxis": {
            "backgroundcolor": "rgb(17,17,17)",
            "gridcolor": "#506784",
            "gridwidth": 2,
            "linecolor": "#506784",
            "showbackground": true,
            "ticks": "",
            "zerolinecolor": "#C8D4E3"
           }
          },
          "shapedefaults": {
           "line": {
            "color": "#f2f5fa"
           }
          },
          "sliderdefaults": {
           "bgcolor": "#C8D4E3",
           "bordercolor": "rgb(17,17,17)",
           "borderwidth": 1,
           "tickwidth": 0
          },
          "ternary": {
           "aaxis": {
            "gridcolor": "#506784",
            "linecolor": "#506784",
            "ticks": ""
           },
           "baxis": {
            "gridcolor": "#506784",
            "linecolor": "#506784",
            "ticks": ""
           },
           "bgcolor": "rgb(17,17,17)",
           "caxis": {
            "gridcolor": "#506784",
            "linecolor": "#506784",
            "ticks": ""
           }
          },
          "title": {
           "x": 0.05
          },
          "updatemenudefaults": {
           "bgcolor": "#506784",
           "borderwidth": 0
          },
          "xaxis": {
           "automargin": true,
           "gridcolor": "#283442",
           "linecolor": "#506784",
           "ticks": "",
           "title": {
            "standoff": 15
           },
           "zerolinecolor": "#283442",
           "zerolinewidth": 2
          },
          "yaxis": {
           "automargin": true,
           "gridcolor": "#283442",
           "linecolor": "#506784",
           "ticks": "",
           "title": {
            "standoff": 15
           },
           "zerolinecolor": "#283442",
           "zerolinewidth": 2
          }
         }
        },
        "title": {
         "text": "D Deviation [%] Histogram"
        },
        "xaxis": {
         "anchor": "y",
         "domain": [
          0,
          1
         ],
         "title": {
          "text": "D Deviation [%]"
         }
        },
        "yaxis": {
         "anchor": "x",
         "domain": [
          0,
          1
         ],
         "title": {
          "text": "count"
         }
        }
       }
      }
     },
     "metadata": {},
     "output_type": "display_data"
    }
   ],
   "source": [
    "import plotly.express as px\n",
    "\n",
    "fig_im = px.imshow(\n",
    "    df_worst_case.pivot(\n",
    "    index=\"T\", columns=\"P\", values=deviation_col\n",
    "    ),\n",
    "    labels=dict(x=\"Pressure [Pa]\", y=\"Temperature [K]\", color=deviation_col),\n",
    "    title=f\"{deviation_col} vs. Temperature and Pressure\",\n",
    "    aspect=\"auto\",\n",
    ")\n",
    "fig_im.update_xaxes(autorange=0)\n",
    "fig_im.update_yaxes(autorange=0)\n",
    "fig_im.update_layout(\n",
    "    template=\"plotly_dark\",\n",
    "    paper_bgcolor=\"#1f1f1f\",\n",
    ")\n",
    "fig_im.show()\n",
    "\n",
    "fig_hist = px.histogram(\n",
    "    df_worst_case, x=deviation_col,\n",
    "    title=f\"{deviation_col} Histogram\",\n",
    ")\n",
    "fig_hist.update_layout(\n",
    "    template=\"plotly_dark\",\n",
    "    paper_bgcolor=\"#1f1f1f\",\n",
    ")\n",
    "fig_hist.show()"
   ]
  }
 ],
 "metadata": {
  "kernelspec": {
   "display_name": "Python 3",
   "language": "python",
   "name": "python3"
  },
  "language_info": {
   "codemirror_mode": {
    "name": "ipython",
    "version": 3
   },
   "file_extension": ".py",
   "mimetype": "text/x-python",
   "name": "python",
   "nbconvert_exporter": "python",
   "pygments_lexer": "ipython3",
   "version": "3.10.11"
  },
  "orig_nbformat": 4
 },
 "nbformat": 4,
 "nbformat_minor": 2
}
